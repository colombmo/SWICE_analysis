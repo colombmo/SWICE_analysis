{
 "cells": [
  {
   "cell_type": "code",
   "execution_count": 16,
   "metadata": {},
   "outputs": [],
   "source": [
    "import csv\n",
    "import folium\n"
   ]
  },
  {
   "cell_type": "code",
   "execution_count": 23,
   "metadata": {},
   "outputs": [],
   "source": [
    "# Function to compute distance between two coordinates in m\n",
    "from math import sin, cos, sqrt, atan2, radians\n",
    "\n",
    "def coord_distance(coord1, coord2):\n",
    "    R = 6373.0\n",
    "    lat1, lon1 = radians(coord1[0]), radians(coord1[1])\n",
    "    lat2, lon2 = radians(coord2[0]), radians(coord2[1])\n",
    "    dlon = lon2 - lon1\n",
    "    dlat = lat2 - lat1\n",
    "    a = sin(dlat / 2)**2 + cos(lat1) * cos(lat2) * sin(dlon / 2)**2\n",
    "    c = 2 * atan2(sqrt(a), sqrt(1 - a))\n",
    "    return R * c * 1000"
   ]
  },
  {
   "cell_type": "code",
   "execution_count": 24,
   "metadata": {},
   "outputs": [],
   "source": [
    "def total_distance(coordinates):\n",
    "    total = 0\n",
    "    for i in range(1, len(coordinates)):\n",
    "        total += coord_distance(coordinates[i-1], coordinates[i])\n",
    "    return total"
   ]
  },
  {
   "cell_type": "code",
   "execution_count": 25,
   "metadata": {},
   "outputs": [],
   "source": [
    "# Open csv file from desktop\n",
    "coords = []\n",
    "with open('./data/path.csv', 'r') as csv_file:\n",
    "    csv_reader = csv.reader(csv_file, delimiter='\\t')\n",
    "    for id, line in enumerate(csv_reader):\n",
    "        coords.append([float(line[3]), float(line[4]), float(line[9])])\n"
   ]
  },
  {
   "cell_type": "code",
   "execution_count": 26,
   "metadata": {},
   "outputs": [
    {
     "name": "stdout",
     "output_type": "stream",
     "text": [
      "Removed 0 points\n"
     ]
    }
   ],
   "source": [
    "temp_coords = coords.copy()\n",
    "coords = [[c[0], c[1]] for c in coords] # if c[2] < 0.8]\n",
    "\n",
    "print(f\"Removed {len(temp_coords) - len(coords)} points\")"
   ]
  },
  {
   "cell_type": "code",
   "execution_count": 27,
   "metadata": {},
   "outputs": [
    {
     "name": "stdout",
     "output_type": "stream",
     "text": [
      "Original: 39281.26273387872\n",
      "Filtered: 39281.26273387872\n"
     ]
    }
   ],
   "source": [
    "print(f\"Original: {total_distance(temp_coords)}\")\n",
    "print(f\"Filtered: {total_distance(coords)}\")"
   ]
  },
  {
   "cell_type": "code",
   "execution_count": 28,
   "metadata": {},
   "outputs": [],
   "source": [
    "# Print coordinates on a map\n",
    "m = folium.Map(location=coords[0], zoom_start=5)\n",
    "for coord in coords:\n",
    "    folium.Marker(coord).add_to(m)\n",
    "m.save('map.html')"
   ]
  },
  {
   "cell_type": "code",
   "execution_count": 29,
   "metadata": {},
   "outputs": [],
   "source": [
    "# Open map in chrome browser using terminal command\n",
    "! open -a \"Arc\" map.html"
   ]
  },
  {
   "cell_type": "code",
   "execution_count": 106,
   "metadata": {},
   "outputs": [
    {
     "name": "stdout",
     "output_type": "stream",
     "text": [
      "Total distance: 29301.39276275092 m\n"
     ]
    }
   ],
   "source": [
    "# Moving window\n",
    "size = 2 # Window size\n",
    "cleaned = [[coords[j] for j in range(i - size, i)] for i in range(size, len(coords))]\n",
    "\n",
    "# Compute mean point of each window\n",
    "mean_points = []\n",
    "\n",
    "# Add the original points for the first and last window size\n",
    "for i in range(size//2):\n",
    "    mean_points.append(coords[i])\n",
    "\n",
    "for window in cleaned:\n",
    "    mean_points.append([sum([point[0] for point in window])/size, sum([point[1] for point in window])/size])\n",
    "\n",
    "for i in range(size//2, 0, -1):\n",
    "    mean_points.append(coords[-i])\n",
    "\n",
    "# Plot mean points on a map\n",
    "m = folium.Map(location=coords[0], zoom_start=10)\n",
    "for i, coord in enumerate(mean_points):\n",
    "    folium.Marker(\n",
    "        coord, \n",
    "        tooltip=i,\n",
    "        icon=folium.Icon(color='red', icon='info-sign') if i == 37 else None\n",
    "        ).add_to(m)\n",
    "m.save('map.html')\n",
    "\n",
    "# Print total distance\n",
    "total_distance = 0\n",
    "for i in range(1, len(mean_points)):\n",
    "    total_distance += coord_distance(mean_points[i-1], mean_points[i])\n",
    "\n",
    "print(f\"Total distance: {total_distance} m\")\n",
    "\n",
    "# Open map in chrome browser using terminal command\n",
    "! open -a \"Arc\" map.html"
   ]
  },
  {
   "cell_type": "code",
   "execution_count": null,
   "metadata": {},
   "outputs": [],
   "source": []
  }
 ],
 "metadata": {
  "kernelspec": {
   "display_name": "osmnx",
   "language": "python",
   "name": "python3"
  },
  "language_info": {
   "codemirror_mode": {
    "name": "ipython",
    "version": 3
   },
   "file_extension": ".py",
   "mimetype": "text/x-python",
   "name": "python",
   "nbconvert_exporter": "python",
   "pygments_lexer": "ipython3",
   "version": "3.9.6"
  },
  "orig_nbformat": 4
 },
 "nbformat": 4,
 "nbformat_minor": 2
}
