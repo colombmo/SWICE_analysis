{
 "cells": [
  {
   "cell_type": "code",
   "execution_count": 1,
   "metadata": {},
   "outputs": [
    {
     "name": "stderr",
     "output_type": "stream",
     "text": [
      "/Users/colombmo/Documents/Lavoro/SWICE/Software/tests/OSMnx/osmnx/lib/python3.9/site-packages/urllib3/__init__.py:34: NotOpenSSLWarning: urllib3 v2.0 only supports OpenSSL 1.1.1+, currently the 'ssl' module is compiled with 'LibreSSL 2.8.3'. See: https://github.com/urllib3/urllib3/issues/3020\n",
      "  warnings.warn(\n"
     ]
    }
   ],
   "source": [
    "import csv\n",
    "import folium"
   ]
  },
  {
   "cell_type": "code",
   "execution_count": 2,
   "metadata": {},
   "outputs": [],
   "source": [
    "# Open csv file from desktop\n",
    "coords = []\n",
    "with open('./data/path.csv', 'r') as csv_file:\n",
    "    csv_reader = csv.reader(csv_file, delimiter='\\t')\n",
    "    for id, line in enumerate(csv_reader):\n",
    "        coords.append([float(line[3]), float(line[4])])\n"
   ]
  },
  {
   "cell_type": "code",
   "execution_count": 3,
   "metadata": {},
   "outputs": [
    {
     "data": {
      "text/plain": [
       "[[46.8080566, 7.1531351],\n",
       " [46.8106243, 7.1606904],\n",
       " [46.8285985, 7.1699484],\n",
       " [46.8132216, 7.158071],\n",
       " [46.8311437, 7.1487559],\n",
       " [46.8445391, 7.187444],\n",
       " [46.8438784, 7.1931053],\n",
       " [46.8557268, 7.1982896],\n",
       " [46.862025, 7.2046233],\n",
       " [46.8539454, 7.2120537],\n",
       " [46.865247, 7.249943],\n",
       " [46.8609838, 7.2499507],\n",
       " [46.8664772, 7.2641271],\n",
       " [46.8677264, 7.2732089],\n",
       " [46.8829707, 7.3047603],\n",
       " [46.8836173, 7.3057806],\n",
       " [46.8885977, 7.3136422],\n",
       " [46.8902579, 7.321018],\n",
       " [46.8942653, 7.3487605],\n",
       " [46.8912204, 7.3534631],\n",
       " [46.9018501, 7.3540164],\n",
       " [46.9108883, 7.3603837],\n",
       " [46.9366458, 7.3933846],\n",
       " [46.9430748, 7.4039279],\n",
       " [46.9464276, 7.4106058],\n",
       " [46.9488258, 7.4283148]]"
      ]
     },
     "execution_count": 3,
     "metadata": {},
     "output_type": "execute_result"
    }
   ],
   "source": [
    "coords"
   ]
  },
  {
   "cell_type": "code",
   "execution_count": 4,
   "metadata": {},
   "outputs": [],
   "source": [
    "# Print coordinates on a map\n",
    "m = folium.Map(location=coords[0], zoom_start=5)\n",
    "for coord in coords:\n",
    "    folium.Marker(coord).add_to(m)\n",
    "m.save('map.html')"
   ]
  },
  {
   "cell_type": "code",
   "execution_count": 5,
   "metadata": {},
   "outputs": [],
   "source": [
    "# Open map in chrome browser using terminal command\n",
    "! open -a \"Google Chrome\" map.html"
   ]
  },
  {
   "cell_type": "code",
   "execution_count": null,
   "metadata": {},
   "outputs": [],
   "source": []
  }
 ],
 "metadata": {
  "kernelspec": {
   "display_name": "osmnx",
   "language": "python",
   "name": "python3"
  },
  "language_info": {
   "codemirror_mode": {
    "name": "ipython",
    "version": 3
   },
   "file_extension": ".py",
   "mimetype": "text/x-python",
   "name": "python",
   "nbconvert_exporter": "python",
   "pygments_lexer": "ipython3",
   "version": "3.9.6"
  },
  "orig_nbformat": 4
 },
 "nbformat": 4,
 "nbformat_minor": 2
}
