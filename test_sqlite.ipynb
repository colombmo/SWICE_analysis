{
 "cells": [
  {
   "cell_type": "markdown",
   "metadata": {},
   "source": [
    "# Test automatically generated sqlite"
   ]
  },
  {
   "cell_type": "code",
   "execution_count": 1,
   "metadata": {},
   "outputs": [],
   "source": [
    "%load_ext memory_profiler"
   ]
  },
  {
   "cell_type": "code",
   "execution_count": 2,
   "metadata": {},
   "outputs": [],
   "source": [
    "import sqlite3\n",
    "import os"
   ]
  },
  {
   "cell_type": "code",
   "execution_count": 3,
   "metadata": {},
   "outputs": [],
   "source": [
    "dbname = \"./swice.db\""
   ]
  },
  {
   "cell_type": "code",
   "execution_count": 8,
   "metadata": {},
   "outputs": [],
   "source": [
    "def run_all():\n",
    "    # Delete the database file in case it already exists\n",
    "    if os.path.exists(dbname):\n",
    "        os.remove(dbname)\n",
    "    with open('./data/new_database.sql', 'r') as sql_file:\n",
    "        sql_script = sql_file.read()\n",
    "\n",
    "    db = sqlite3.connect(dbname)\n",
    "    cursor = db.cursor()\n",
    "    cursor.executescript(sql_script)\n",
    "    db.commit()\n",
    "    db.close()\n",
    "\n",
    "    # Execute sql script to add trains\n",
    "    with open(\"./results/2024_06_osm_db.sql\", 'r') as sql_file:\n",
    "        sql_script = sql_file.read()\n",
    "\n",
    "    db = sqlite3.connect(dbname)\n",
    "    cursor = db.cursor()\n",
    "    cursor.executescript(sql_script)\n",
    "    db.commit()\n",
    "    db.close()"
   ]
  },
  {
   "cell_type": "code",
   "execution_count": 9,
   "metadata": {},
   "outputs": [
    {
     "name": "stdout",
     "output_type": "stream",
     "text": [
      "1.42 s ± 30.7 ms per loop (mean ± std. dev. of 7 runs, 1 loop each)\n"
     ]
    }
   ],
   "source": [
    "%timeit run_all()"
   ]
  },
  {
   "cell_type": "code",
   "execution_count": null,
   "metadata": {},
   "outputs": [],
   "source": []
  }
 ],
 "metadata": {
  "kernelspec": {
   "display_name": "osmnx",
   "language": "python",
   "name": "python3"
  },
  "language_info": {
   "codemirror_mode": {
    "name": "ipython",
    "version": 3
   },
   "file_extension": ".py",
   "mimetype": "text/x-python",
   "name": "python",
   "nbconvert_exporter": "python",
   "pygments_lexer": "ipython3",
   "version": "3.9.6"
  }
 },
 "nbformat": 4,
 "nbformat_minor": 2
}
