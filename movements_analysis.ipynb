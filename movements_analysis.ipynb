{
 "cells": [
  {
   "cell_type": "markdown",
   "metadata": {},
   "source": [
    "# Movement data analysis"
   ]
  },
  {
   "cell_type": "markdown",
   "metadata": {},
   "source": [
    "Analyze the movement data collected during the experiment"
   ]
  },
  {
   "cell_type": "markdown",
   "metadata": {},
   "source": [
    "## Import data and libraries"
   ]
  },
  {
   "cell_type": "code",
   "execution_count": 1,
   "metadata": {},
   "outputs": [
    {
     "name": "stderr",
     "output_type": "stream",
     "text": [
      "/Users/colombmo/Documents/Lavoro/SWICE/Software/tests/OSMnx/osmnx/lib/python3.9/site-packages/urllib3/__init__.py:34: NotOpenSSLWarning: urllib3 v2.0 only supports OpenSSL 1.1.1+, currently the 'ssl' module is compiled with 'LibreSSL 2.8.3'. See: https://github.com/urllib3/urllib3/issues/3020\n",
      "  warnings.warn(\n"
     ]
    }
   ],
   "source": [
    "import geopandas as gpd\n",
    "import pandas as pd\n",
    "import folium\n",
    "from folium.plugins import HeatMap\n",
    "from branca.colormap import linear\n",
    "from geolib import geohash as geolib\n",
    "import json\n",
    "import math\n",
    "import random\n",
    "import arc_drawer"
   ]
  },
  {
   "cell_type": "code",
   "execution_count": 2,
   "metadata": {},
   "outputs": [],
   "source": [
    "# Defined legend\n",
    "legend_html = '''\n",
    "     <div style=\"position: fixed; \n",
    "                 bottom: 50px; left: 50px; width: 160px; height: 300px; \n",
    "                 background-color: white; border:2px solid grey; z-index:9999; \n",
    "                 font-size:14px;\">\n",
    "     &nbsp; <b>Legend</b> <br>\n",
    "     &nbsp; Walking &nbsp; <i class=\"fa fa-square\" style=\"color:#7FC97F\"></i><br>\n",
    "     &nbsp; On Bicycle &nbsp; <i class=\"fa fa-square\" style=\"color:#BDAED4\"></i><br>\n",
    "     &nbsp; Train &nbsp; <i class=\"fa fa-square\" style=\"color:#FDBF85\"></i><br>\n",
    "     &nbsp; Bus &nbsp; <i class=\"fa fa-square\" style=\"color:#FFFF99\"></i><br>\n",
    "     &nbsp; Electric Bus &nbsp; <i class=\"fa fa-square\" style=\"color:#FFFF99\"></i><br>\n",
    "     &nbsp; Car &nbsp; <i class=\"fa fa-square\" style=\"color:#386CB0\"></i><br>\n",
    "     &nbsp; Tram &nbsp; <i class=\"fa fa-square\" style=\"color:#F0027F\"></i><br>\n",
    "     &nbsp; Plane &nbsp; <i class=\"fa fa-square\" style=\"color:#BE5B17\"></i><br>\n",
    "     &nbsp; Boat &nbsp; <i class=\"fa fa-square\" style=\"color:#BE5B17\"></i><br>\n",
    "      </div>\n",
    "     '''"
   ]
  },
  {
   "cell_type": "code",
   "execution_count": 3,
   "metadata": {},
   "outputs": [
    {
     "data": {
      "text/html": [
       "<div>\n",
       "<style scoped>\n",
       "    .dataframe tbody tr th:only-of-type {\n",
       "        vertical-align: middle;\n",
       "    }\n",
       "\n",
       "    .dataframe tbody tr th {\n",
       "        vertical-align: top;\n",
       "    }\n",
       "\n",
       "    .dataframe thead th {\n",
       "        text-align: right;\n",
       "    }\n",
       "</style>\n",
       "<table border=\"1\" class=\"dataframe\">\n",
       "  <thead>\n",
       "    <tr style=\"text-align: right;\">\n",
       "      <th></th>\n",
       "      <th>participant_id</th>\n",
       "      <th>start_time</th>\n",
       "      <th>end_time</th>\n",
       "      <th>start_geohash</th>\n",
       "      <th>end_geohash</th>\n",
       "      <th>distance(m)</th>\n",
       "      <th>mean_of_transport</th>\n",
       "      <th>original_mean_of_transport</th>\n",
       "      <th>is_power_saving</th>\n",
       "      <th>geometry</th>\n",
       "    </tr>\n",
       "  </thead>\n",
       "  <tbody>\n",
       "    <tr>\n",
       "      <th>0</th>\n",
       "      <td>2199231E2</td>\n",
       "      <td>2024-07-05 07:20:28+00:00</td>\n",
       "      <td>2024-07-05 07:20:48+00:00</td>\n",
       "      <td>u0m44x</td>\n",
       "      <td>u0m46b</td>\n",
       "      <td>1298</td>\n",
       "      <td>ON_BICYCLE</td>\n",
       "      <td>CAR</td>\n",
       "      <td>False</td>\n",
       "      <td>None</td>\n",
       "    </tr>\n",
       "    <tr>\n",
       "      <th>1</th>\n",
       "      <td>2199231E2</td>\n",
       "      <td>2024-07-05 22:09:13+00:00</td>\n",
       "      <td>2024-07-05 22:35:08+00:00</td>\n",
       "      <td>u0m44z</td>\n",
       "      <td>u0m44x</td>\n",
       "      <td>1354</td>\n",
       "      <td>WALKING</td>\n",
       "      <td>WALKING</td>\n",
       "      <td>False</td>\n",
       "      <td>None</td>\n",
       "    </tr>\n",
       "    <tr>\n",
       "      <th>2</th>\n",
       "      <td>2199231E2</td>\n",
       "      <td>2024-07-08 06:40:47+00:00</td>\n",
       "      <td>2024-07-08 06:46:29+00:00</td>\n",
       "      <td>u0m46b</td>\n",
       "      <td>u0m44x</td>\n",
       "      <td>758</td>\n",
       "      <td>ON_BICYCLE</td>\n",
       "      <td>ON_BICYCLE</td>\n",
       "      <td>False</td>\n",
       "      <td>None</td>\n",
       "    </tr>\n",
       "    <tr>\n",
       "      <th>3</th>\n",
       "      <td>2199231E2</td>\n",
       "      <td>2024-07-14 09:34:33+00:00</td>\n",
       "      <td>2024-07-14 10:34:41+00:00</td>\n",
       "      <td>u0m3ed</td>\n",
       "      <td>u0m3e5</td>\n",
       "      <td>1939</td>\n",
       "      <td>WALKING</td>\n",
       "      <td>WALKING</td>\n",
       "      <td>False</td>\n",
       "      <td>None</td>\n",
       "    </tr>\n",
       "    <tr>\n",
       "      <th>4</th>\n",
       "      <td>2199231E2</td>\n",
       "      <td>2024-07-18 05:09:04+00:00</td>\n",
       "      <td>2024-07-18 05:41:19+00:00</td>\n",
       "      <td>u0kb8b</td>\n",
       "      <td>u0k2ne</td>\n",
       "      <td>37296</td>\n",
       "      <td>TRAIN</td>\n",
       "      <td>TRAIN</td>\n",
       "      <td>False</td>\n",
       "      <td>None</td>\n",
       "    </tr>\n",
       "    <tr>\n",
       "      <th>...</th>\n",
       "      <td>...</td>\n",
       "      <td>...</td>\n",
       "      <td>...</td>\n",
       "      <td>...</td>\n",
       "      <td>...</td>\n",
       "      <td>...</td>\n",
       "      <td>...</td>\n",
       "      <td>...</td>\n",
       "      <td>...</td>\n",
       "      <td>...</td>\n",
       "    </tr>\n",
       "    <tr>\n",
       "      <th>1566</th>\n",
       "      <td>1199121CX</td>\n",
       "      <td>2024-08-21 11:45:19+00:00</td>\n",
       "      <td>2024-08-21 11:57:15+00:00</td>\n",
       "      <td>u0m44x</td>\n",
       "      <td>u0m468</td>\n",
       "      <td>495</td>\n",
       "      <td>WALKING</td>\n",
       "      <td>WALKING</td>\n",
       "      <td>False</td>\n",
       "      <td>None</td>\n",
       "    </tr>\n",
       "    <tr>\n",
       "      <th>1567</th>\n",
       "      <td>1199121CX</td>\n",
       "      <td>2024-08-21 11:57:16+00:00</td>\n",
       "      <td>2024-08-21 12:02:08+00:00</td>\n",
       "      <td>u0m468</td>\n",
       "      <td>u0m44y</td>\n",
       "      <td>997</td>\n",
       "      <td>ELECTRIC_BUS</td>\n",
       "      <td>ELECTRIC_BUS</td>\n",
       "      <td>False</td>\n",
       "      <td>None</td>\n",
       "    </tr>\n",
       "    <tr>\n",
       "      <th>1568</th>\n",
       "      <td>1199121CX</td>\n",
       "      <td>2024-08-21 12:59:19+00:00</td>\n",
       "      <td>2024-08-21 13:11:00+00:00</td>\n",
       "      <td>u0m44y</td>\n",
       "      <td>u0m44y</td>\n",
       "      <td>393</td>\n",
       "      <td>WALKING</td>\n",
       "      <td>WALKING</td>\n",
       "      <td>False</td>\n",
       "      <td>None</td>\n",
       "    </tr>\n",
       "    <tr>\n",
       "      <th>1569</th>\n",
       "      <td>1199121CX</td>\n",
       "      <td>2024-08-21 15:54:12+00:00</td>\n",
       "      <td>2024-08-21 16:10:53+00:00</td>\n",
       "      <td>u0m44y</td>\n",
       "      <td>u0m44x</td>\n",
       "      <td>1234</td>\n",
       "      <td>WALKING</td>\n",
       "      <td>WALKING</td>\n",
       "      <td>False</td>\n",
       "      <td>None</td>\n",
       "    </tr>\n",
       "    <tr>\n",
       "      <th>1570</th>\n",
       "      <td>1199121CX</td>\n",
       "      <td>2024-08-21 16:26:00+00:00</td>\n",
       "      <td>2024-08-21 16:35:51+00:00</td>\n",
       "      <td>u0m44x</td>\n",
       "      <td>u0m44x</td>\n",
       "      <td>576</td>\n",
       "      <td>WALKING</td>\n",
       "      <td>WALKING</td>\n",
       "      <td>False</td>\n",
       "      <td>None</td>\n",
       "    </tr>\n",
       "  </tbody>\n",
       "</table>\n",
       "<p>1571 rows × 10 columns</p>\n",
       "</div>"
      ],
      "text/plain": [
       "     participant_id                 start_time                   end_time  \\\n",
       "0         2199231E2  2024-07-05 07:20:28+00:00  2024-07-05 07:20:48+00:00   \n",
       "1         2199231E2  2024-07-05 22:09:13+00:00  2024-07-05 22:35:08+00:00   \n",
       "2         2199231E2  2024-07-08 06:40:47+00:00  2024-07-08 06:46:29+00:00   \n",
       "3         2199231E2  2024-07-14 09:34:33+00:00  2024-07-14 10:34:41+00:00   \n",
       "4         2199231E2  2024-07-18 05:09:04+00:00  2024-07-18 05:41:19+00:00   \n",
       "...             ...                        ...                        ...   \n",
       "1566      1199121CX  2024-08-21 11:45:19+00:00  2024-08-21 11:57:15+00:00   \n",
       "1567      1199121CX  2024-08-21 11:57:16+00:00  2024-08-21 12:02:08+00:00   \n",
       "1568      1199121CX  2024-08-21 12:59:19+00:00  2024-08-21 13:11:00+00:00   \n",
       "1569      1199121CX  2024-08-21 15:54:12+00:00  2024-08-21 16:10:53+00:00   \n",
       "1570      1199121CX  2024-08-21 16:26:00+00:00  2024-08-21 16:35:51+00:00   \n",
       "\n",
       "     start_geohash end_geohash distance(m) mean_of_transport  \\\n",
       "0           u0m44x      u0m46b        1298        ON_BICYCLE   \n",
       "1           u0m44z      u0m44x        1354           WALKING   \n",
       "2           u0m46b      u0m44x         758        ON_BICYCLE   \n",
       "3           u0m3ed      u0m3e5        1939           WALKING   \n",
       "4           u0kb8b      u0k2ne       37296             TRAIN   \n",
       "...            ...         ...         ...               ...   \n",
       "1566        u0m44x      u0m468         495           WALKING   \n",
       "1567        u0m468      u0m44y         997      ELECTRIC_BUS   \n",
       "1568        u0m44y      u0m44y         393           WALKING   \n",
       "1569        u0m44y      u0m44x        1234           WALKING   \n",
       "1570        u0m44x      u0m44x         576           WALKING   \n",
       "\n",
       "     original_mean_of_transport is_power_saving geometry  \n",
       "0                           CAR           False     None  \n",
       "1                       WALKING           False     None  \n",
       "2                    ON_BICYCLE           False     None  \n",
       "3                       WALKING           False     None  \n",
       "4                         TRAIN           False     None  \n",
       "...                         ...             ...      ...  \n",
       "1566                    WALKING           False     None  \n",
       "1567               ELECTRIC_BUS           False     None  \n",
       "1568                    WALKING           False     None  \n",
       "1569                    WALKING           False     None  \n",
       "1570                    WALKING           False     None  \n",
       "\n",
       "[1571 rows x 10 columns]"
      ]
     },
     "execution_count": 3,
     "metadata": {},
     "output_type": "execute_result"
    }
   ],
   "source": [
    "\n",
    "# Read the data from the csv\n",
    "df = gpd.read_file('data/Test_movements.csv')\n",
    "df"
   ]
  },
  {
   "cell_type": "code",
   "execution_count": 4,
   "metadata": {},
   "outputs": [],
   "source": [
    "# Remove 2 last characters of geohash\n",
    "#df['start_geohash'] = df['start_geohash'].str[:-1]\n",
    "#df['end_geohash'] = df['end_geohash'].str[:-1]"
   ]
  },
  {
   "cell_type": "code",
   "execution_count": 5,
   "metadata": {},
   "outputs": [],
   "source": [
    "## Convert distance to int\n",
    "df['distance(m)'] = df['distance(m)'].astype(int)"
   ]
  },
  {
   "cell_type": "code",
   "execution_count": 6,
   "metadata": {},
   "outputs": [
    {
     "data": {
      "text/plain": [
       "participant_id\n",
       "219935XE1     429\n",
       "1199121CX     323\n",
       "2199231E2     252\n",
       "119963XR1     158\n",
       "119817XU1     154\n",
       "220092XJ1      89\n",
       "219957XAX      58\n",
       "219613XI1      42\n",
       "119928XAX      31\n",
       "1199393SX      18\n",
       "21975111GX     17\n",
       "Name: count, dtype: int64"
      ]
     },
     "execution_count": 6,
     "metadata": {},
     "output_type": "execute_result"
    }
   ],
   "source": [
    "## Get a list of all the unique participants in df, including the number of occurrences of each participant\n",
    "participants = df['participant_id'].value_counts()\n",
    "participants"
   ]
  },
  {
   "cell_type": "code",
   "execution_count": 7,
   "metadata": {},
   "outputs": [
    {
     "data": {
      "text/plain": [
       "mean_of_transport\n",
       "WALKING            726\n",
       "TRAIN              249\n",
       "ON_BICYCLE         184\n",
       "ELECTRIC_BUS       106\n",
       "CAR                 92\n",
       "ELECTRIC_BIKE       91\n",
       "SCOOTER             44\n",
       "BUS                 35\n",
       "TRAM                23\n",
       "ELECTRIC_CAR         7\n",
       "BOAT                 6\n",
       "HYBRID_CAR           6\n",
       "PLANE                1\n",
       "DETECTION_ERROR      1\n",
       "Name: count, dtype: int64"
      ]
     },
     "execution_count": 7,
     "metadata": {},
     "output_type": "execute_result"
    }
   ],
   "source": [
    "## Get the list of movements with each mean of transport\n",
    "df['mean_of_transport'].value_counts()"
   ]
  },
  {
   "cell_type": "code",
   "execution_count": 8,
   "metadata": {},
   "outputs": [
    {
     "data": {
      "text/plain": [
       "mean_of_transport\n",
       "BOAT                  90.898\n",
       "BUS                  142.210\n",
       "CAR                 2621.505\n",
       "DETECTION_ERROR        3.354\n",
       "ELECTRIC_BIKE        254.626\n",
       "ELECTRIC_BUS         169.091\n",
       "ELECTRIC_CAR          71.905\n",
       "HYBRID_CAR            62.146\n",
       "ON_BICYCLE           698.329\n",
       "PLANE                 47.206\n",
       "SCOOTER               51.219\n",
       "TRAIN              11313.721\n",
       "TRAM                  33.218\n",
       "WALKING              846.631\n",
       "Name: distance(m), dtype: float64"
      ]
     },
     "execution_count": 8,
     "metadata": {},
     "output_type": "execute_result"
    }
   ],
   "source": [
    "# Get the distance covered with each mean of transport (in km)\n",
    "df.groupby('mean_of_transport')['distance(m)'].sum()/1000"
   ]
  },
  {
   "cell_type": "code",
   "execution_count": 9,
   "metadata": {},
   "outputs": [],
   "source": [
    "# Transform the start_ and end_date to a date only\n",
    "df['start_time'] = pd.to_datetime(df['start_time']).dt.date\n",
    "df['end_time'] = pd.to_datetime(df['end_time']).dt.date"
   ]
  },
  {
   "cell_type": "code",
   "execution_count": 10,
   "metadata": {},
   "outputs": [
    {
     "data": {
      "text/plain": [
       "participant_id  mean_of_transport  start_time\n",
       "119817XU1       BUS                2024-07-06      0.944\n",
       "                CAR                2024-07-06      4.835\n",
       "                                   2024-07-12    109.663\n",
       "                                   2024-07-22      3.074\n",
       "                                   2024-07-23      2.284\n",
       "                                                  ...   \n",
       "220092XJ1       WALKING            2024-07-14      0.336\n",
       "                                   2024-07-15      0.553\n",
       "                                   2024-07-19      0.304\n",
       "                                   2024-07-20      1.682\n",
       "                                   2024-07-21      1.353\n",
       "Name: distance(m), Length: 633, dtype: float64"
      ]
     },
     "execution_count": 10,
     "metadata": {},
     "output_type": "execute_result"
    }
   ],
   "source": [
    "df.groupby(['participant_id', 'mean_of_transport', 'start_time'])['distance(m)'].sum()/1000"
   ]
  },
  {
   "cell_type": "code",
   "execution_count": 11,
   "metadata": {},
   "outputs": [
    {
     "data": {
      "text/html": [
       "<div>\n",
       "<style scoped>\n",
       "    .dataframe tbody tr th:only-of-type {\n",
       "        vertical-align: middle;\n",
       "    }\n",
       "\n",
       "    .dataframe tbody tr th {\n",
       "        vertical-align: top;\n",
       "    }\n",
       "\n",
       "    .dataframe thead th {\n",
       "        text-align: right;\n",
       "    }\n",
       "</style>\n",
       "<table border=\"1\" class=\"dataframe\">\n",
       "  <thead>\n",
       "    <tr style=\"text-align: right;\">\n",
       "      <th></th>\n",
       "      <th>mean</th>\n",
       "      <th>std</th>\n",
       "    </tr>\n",
       "    <tr>\n",
       "      <th>mean_of_transport</th>\n",
       "      <th></th>\n",
       "      <th></th>\n",
       "    </tr>\n",
       "  </thead>\n",
       "  <tbody>\n",
       "    <tr>\n",
       "      <th>BOAT</th>\n",
       "      <td>22.724500</td>\n",
       "      <td>43.105379</td>\n",
       "    </tr>\n",
       "    <tr>\n",
       "      <th>BUS</th>\n",
       "      <td>5.267037</td>\n",
       "      <td>5.812229</td>\n",
       "    </tr>\n",
       "    <tr>\n",
       "      <th>CAR</th>\n",
       "      <td>50.413558</td>\n",
       "      <td>92.064664</td>\n",
       "    </tr>\n",
       "    <tr>\n",
       "      <th>DETECTION_ERROR</th>\n",
       "      <td>3.354000</td>\n",
       "      <td>NaN</td>\n",
       "    </tr>\n",
       "    <tr>\n",
       "      <th>ELECTRIC_BIKE</th>\n",
       "      <td>7.957063</td>\n",
       "      <td>7.723336</td>\n",
       "    </tr>\n",
       "    <tr>\n",
       "      <th>ELECTRIC_BUS</th>\n",
       "      <td>2.348486</td>\n",
       "      <td>1.940195</td>\n",
       "    </tr>\n",
       "    <tr>\n",
       "      <th>ELECTRIC_CAR</th>\n",
       "      <td>23.968333</td>\n",
       "      <td>20.527125</td>\n",
       "    </tr>\n",
       "    <tr>\n",
       "      <th>HYBRID_CAR</th>\n",
       "      <td>20.715333</td>\n",
       "      <td>8.193530</td>\n",
       "    </tr>\n",
       "    <tr>\n",
       "      <th>ON_BICYCLE</th>\n",
       "      <td>9.835620</td>\n",
       "      <td>14.069182</td>\n",
       "    </tr>\n",
       "    <tr>\n",
       "      <th>PLANE</th>\n",
       "      <td>47.206000</td>\n",
       "      <td>NaN</td>\n",
       "    </tr>\n",
       "    <tr>\n",
       "      <th>SCOOTER</th>\n",
       "      <td>3.939923</td>\n",
       "      <td>2.762388</td>\n",
       "    </tr>\n",
       "    <tr>\n",
       "      <th>TRAIN</th>\n",
       "      <td>112.017040</td>\n",
       "      <td>114.232701</td>\n",
       "    </tr>\n",
       "    <tr>\n",
       "      <th>TRAM</th>\n",
       "      <td>1.954000</td>\n",
       "      <td>2.280104</td>\n",
       "    </tr>\n",
       "    <tr>\n",
       "      <th>WALKING</th>\n",
       "      <td>3.587419</td>\n",
       "      <td>5.017989</td>\n",
       "    </tr>\n",
       "  </tbody>\n",
       "</table>\n",
       "</div>"
      ],
      "text/plain": [
       "                         mean         std\n",
       "mean_of_transport                        \n",
       "BOAT                22.724500   43.105379\n",
       "BUS                  5.267037    5.812229\n",
       "CAR                 50.413558   92.064664\n",
       "DETECTION_ERROR      3.354000         NaN\n",
       "ELECTRIC_BIKE        7.957063    7.723336\n",
       "ELECTRIC_BUS         2.348486    1.940195\n",
       "ELECTRIC_CAR        23.968333   20.527125\n",
       "HYBRID_CAR          20.715333    8.193530\n",
       "ON_BICYCLE           9.835620   14.069182\n",
       "PLANE               47.206000         NaN\n",
       "SCOOTER              3.939923    2.762388\n",
       "TRAIN              112.017040  114.232701\n",
       "TRAM                 1.954000    2.280104\n",
       "WALKING              3.587419    5.017989"
      ]
     },
     "execution_count": 11,
     "metadata": {},
     "output_type": "execute_result"
    }
   ],
   "source": [
    "# Get the distance covered by each mean of transport per day, per user. On the days where the user used the mean of transport.\n",
    "dist_per_day = df.groupby(['participant_id', 'mean_of_transport', 'start_time'])['distance(m)'].sum()/1000\n",
    "\n",
    "\n",
    "# Get the average per mean of transport across all users. Which means the average of the average_dist\n",
    "mean_daily = dist_per_day.groupby('mean_of_transport').mean()\n",
    "std_daily = dist_per_day.groupby('mean_of_transport').std()\n",
    "\n",
    "# Merge and print\n",
    "daily = pd.concat([mean_daily, std_daily], axis=1)\n",
    "daily.columns = ['mean', 'std']\n",
    "daily\n"
   ]
  },
  {
   "cell_type": "code",
   "execution_count": 12,
   "metadata": {},
   "outputs": [],
   "source": [
    "dist_per_day = dist_per_day.reset_index()"
   ]
  },
  {
   "cell_type": "code",
   "execution_count": 13,
   "metadata": {},
   "outputs": [],
   "source": [
    "# Plot as a violin plot\n",
    "import seaborn as sns\n",
    "import matplotlib.pyplot as plt"
   ]
  },
  {
   "cell_type": "code",
   "execution_count": 14,
   "metadata": {},
   "outputs": [
    {
     "name": "stderr",
     "output_type": "stream",
     "text": [
      "/var/folders/0v/mryc8sr57kb1272k8bhj0z083fl3sj/T/ipykernel_12485/1236318022.py:3: FutureWarning: \n",
      "\n",
      "Passing `palette` without assigning `hue` is deprecated and will be removed in v0.14.0. Assign the `x` variable to `hue` and set `legend=False` for the same effect.\n",
      "\n",
      "  sns.violinplot(x='mean_of_transport', y='distance(m)', data=dist_per_day, inner='box', linewidth=1.5, saturation=0.8, width=0.8, cut=0, palette='viridis')\n"
     ]
    },
    {
     "data": {
      "text/plain": [
       "<Axes: xlabel='mean_of_transport', ylabel='distance(m)'>"
      ]
     },
     "execution_count": 14,
     "metadata": {},
     "output_type": "execute_result"
    },
    {
     "data": {
      "image/png": "[encoded data removed]",
      "text/plain": [
       "<Figure size 1500x400 with 1 Axes>"
      ]
     },
     "metadata": {},
     "output_type": "display_data"
    }
   ],
   "source": [
    "# Plot as violin plot\n",
    "plt.figure(figsize=(15, 4))\n",
    "sns.violinplot(x='mean_of_transport', y='distance(m)', data=dist_per_day, inner='box', linewidth=1.5, saturation=0.8, width=0.8, cut=0, palette='viridis')"
   ]
  },
  {
   "cell_type": "code",
   "execution_count": 15,
   "metadata": {},
   "outputs": [
    {
     "name": "stderr",
     "output_type": "stream",
     "text": [
      "/var/folders/0v/mryc8sr57kb1272k8bhj0z083fl3sj/T/ipykernel_12485/3832359373.py:6: FutureWarning: \n",
      "\n",
      "Passing `palette` without assigning `hue` is deprecated and will be removed in v0.14.0. Assign the `x` variable to `hue` and set `legend=False` for the same effect.\n",
      "\n",
      "  sns.violinplot(x='mean_of_transport', y='distance(m)', data=long, inner='box', linewidth=1.5, saturation=0.8, width=0.8, cut=0, palette='viridis') # Long distance\n",
      "/var/folders/0v/mryc8sr57kb1272k8bhj0z083fl3sj/T/ipykernel_12485/3832359373.py:9: FutureWarning: \n",
      "\n",
      "Passing `palette` without assigning `hue` is deprecated and will be removed in v0.14.0. Assign the `x` variable to `hue` and set `legend=False` for the same effect.\n",
      "\n",
      "  sns.violinplot(x='mean_of_transport', y='distance(m)', data=short, inner='box', linewidth=1.5, saturation=0.8, width=0.8, cut=0, palette='viridis') # Short distance\n"
     ]
    },
    {
     "data": {
      "text/plain": [
       "<Axes: xlabel='mean_of_transport', ylabel='distance(m)'>"
      ]
     },
     "execution_count": 15,
     "metadata": {},
     "output_type": "execute_result"
    },
    {
     "data": {
      "image/png": "[encoded data removed]",
      "text/plain": [
       "<Figure size 1500x400 with 1 Axes>"
      ]
     },
     "metadata": {},
     "output_type": "display_data"
    },
    {
     "data": {
      "image/png": "[encoded data removed]",
      "text/plain": [
       "<Figure size 1500x400 with 1 Axes>"
      ]
     },
     "metadata": {},
     "output_type": "display_data"
    }
   ],
   "source": [
    "# Separate car, train, boat from the rest and plot\n",
    "long = dist_per_day[dist_per_day['mean_of_transport'].isin(['CAR', 'TRAIN', 'BOAT'])]\n",
    "short = dist_per_day[~dist_per_day['mean_of_transport'].isin(['CAR', 'TRAIN', 'BOAT'])]\n",
    "\n",
    "plt.figure(figsize=(15, 4))\n",
    "sns.violinplot(x='mean_of_transport', y='distance(m)', data=long, inner='box', linewidth=1.5, saturation=0.8, width=0.8, cut=0, palette='viridis') # Long distance\n",
    "\n",
    "plt.figure(figsize=(15, 4))\n",
    "sns.violinplot(x='mean_of_transport', y='distance(m)', data=short, inner='box', linewidth=1.5, saturation=0.8, width=0.8, cut=0, palette='viridis') # Short distance"
   ]
  },
  {
   "cell_type": "markdown",
   "metadata": {},
   "source": [
    "## Create a visualization of the covered routes"
   ]
  },
  {
   "cell_type": "code",
   "execution_count": 16,
   "metadata": {},
   "outputs": [],
   "source": [
    "## Get a coordinate from a geohash, adding a small random offset to avoid overlapping\n",
    "def geohash_to_coordinate(geohash):\n",
    "    lat, lon = geolib.decode(geohash)\n",
    "    #lat = float(lat) + 0.00000001#(random.random() - 0.5) * 0.00000001\n",
    "    #lon = float(lon) + 0.00000001#(random.random() - 0.5) * 0.00000001\n",
    "    return [float(lat), float(lon)]"
   ]
  },
  {
   "cell_type": "code",
   "execution_count": 17,
   "metadata": {},
   "outputs": [],
   "source": [
    "## Draw a path from start_geohash to end_geohash on a folium map\n",
    "def draw_path(start_geohash, end_geohash, mean_of_transport, map, weight=1, tooltip=None):\n",
    "    ## Give a different color to each mean of transport\n",
    "    colors = {\n",
    "        'WALKING': '#7FC97F',\n",
    "        'ON_BICYCLE': '#BDAED4',\n",
    "        'ELECTRIC_BIKE': '#BDAED4',\n",
    "        'SCOOTER': '#BDAED4',\n",
    "        'TRAIN': '#FDBF85',\n",
    "        'BUS': '#FFFF99',\n",
    "        'ELECTRIC_BUS': '#FFFF99',\n",
    "        'CAR': '#386CB0',\n",
    "        'ELECTRIC_CAR': '#386CB0',\n",
    "        'HYBRID_CAR': '#386CB0',\n",
    "        'TRAM': '#F0027F',\n",
    "        'PLANE': '#BE5B17',\n",
    "        'BOAT': '#BE5B17',\n",
    "        'DETECTION_ERROR': '#000000'\n",
    "    }\n",
    "    start_coord = geohash_to_coordinate(start_geohash)\n",
    "    end_coord = geohash_to_coordinate(end_geohash)\n",
    "\n",
    "    # Add a small offset to avoid overlapping\n",
    "    start_coord[0] += (random.random() - 0.5) * 0.001\n",
    "    start_coord[1] += (random.random() - 0.5) * 0.001\n",
    "    end_coord[0] += (random.random() - 0.5) * 0.001\n",
    "    end_coord[1] += (random.random() - 0.5) * 0.001\n",
    "\n",
    "    #arc_drawer.draw_arc(map, start_coord[0], start_coord[1], end_coord[0], end_coord[1], color=colors[mean_of_transport], weight = weight)\n",
    "\n",
    "    folium.PolyLine(locations=[start_coord, end_coord], color=colors[mean_of_transport], weight=weight, tooltip=tooltip).add_to(map)\n"
   ]
  },
  {
   "cell_type": "code",
   "execution_count": 18,
   "metadata": {},
   "outputs": [],
   "source": [
    "## Create the actual folium map\n",
    "m = folium.Map(location=[46.9446011, 7.4143311], zoom_start=6, tiles='https://tiles.stadiamaps.com/tiles/stamen_toner_lite/{z}/{x}/{y}{r}.png?api_key=977802c5-9b2e-4fc3-9254-a9199d0d5d0c', attr='https://stadiamaps.com/')\n",
    "\n",
    "# Count the number of movements with the same combination of start_geohash and end_geohash (or vice-versa)\n",
    "df['start_end_geohash'] = df['start_geohash'] + df['end_geohash']\n",
    "df['end_start_geohash'] = df['end_geohash'] + df['start_geohash']\n",
    "\n",
    "## Get the number of movements with the same combination of start_geohash and end_geohash (or vice-versa)\n",
    "start_end = df['start_end_geohash'].value_counts()\n",
    "end_start = df['end_start_geohash'].value_counts()\n",
    "\n",
    "## Create a list with the sum of the two previous lists, when the index is the same\n",
    "combined = {}\n",
    "\n",
    "for index, row in start_end.items():\n",
    "    if index in end_start:\n",
    "        combined[index] = row + end_start[index]\n",
    "    else:\n",
    "        combined[index] = row\n",
    "\n",
    "for index, row in end_start.items():\n",
    "    if index not in combined:\n",
    "        combined[index] = row\n",
    "\n",
    "## Convert combined to series\n",
    "combined = pd.Series(combined)\n",
    "\n",
    "# Log scaling\n",
    "combined = combined.apply(lambda x: math.log(x) + 1)\n",
    "\n",
    "# Draw path for each movement in start_end\n",
    "for index, row in combined.items():\n",
    "    start_geohash = index[0:len(index)//2]\n",
    "    end_geohash = index[len(index)//2:len(index)] \n",
    "\n",
    "    try:\n",
    "        mean_of_transport = df.loc[(df['start_geohash'] == start_geohash) & (df['end_geohash'] == end_geohash), 'mean_of_transport'].iloc[0]\n",
    "    except:\n",
    "        mean_of_transport = df.loc[(df['end_geohash'] == start_geohash) & (df['start_geohash'] == end_geohash), 'mean_of_transport'].iloc[0]\n",
    "\n",
    "    draw_path(start_geohash, end_geohash, mean_of_transport, m, weight = row/max(combined)*7)\n",
    "\n",
    "## Draw a path for each movement\n",
    "#for index, row in df.iterrows():\n",
    "#    draw_path(row['start_geohash'], row['end_geohash'], row['mean_of_transport'], m)\n",
    "\n",
    "## Add the legend to the map\n",
    "m.get_root().html.add_child(folium.Element(legend_html))\n",
    "\n",
    "## Save the map as an html file\n",
    "m.save('maps/paths_map.html')\n"
   ]
  },
  {
   "cell_type": "markdown",
   "metadata": {},
   "source": [
    "## Create a heatmap of the locations visited"
   ]
  },
  {
   "cell_type": "code",
   "execution_count": 19,
   "metadata": {},
   "outputs": [
    {
     "data": {
      "text/plain": [
       "3142"
      ]
     },
     "execution_count": 19,
     "metadata": {},
     "output_type": "execute_result"
    }
   ],
   "source": [
    "## Extract from df a list of all start_geohashes and end_geohashes\n",
    "geohashes = list(df['start_geohash']) + list(df['end_geohash'])\n",
    "len(geohashes)"
   ]
  },
  {
   "cell_type": "code",
   "execution_count": 20,
   "metadata": {},
   "outputs": [],
   "source": [
    "# If we want, we can remove some characters from the end of each geohash to reduce the precision\n",
    "geohashes = [geohash[:-1] for geohash in geohashes]"
   ]
  },
  {
   "cell_type": "code",
   "execution_count": 21,
   "metadata": {},
   "outputs": [],
   "source": [
    "# Convert the list of geohashes to a dataframe\n",
    "geohashes_df = gpd.GeoDataFrame(geohashes, columns=['geohash'])"
   ]
  },
  {
   "cell_type": "markdown",
   "metadata": {},
   "source": [
    "## Convert the list of geohashes to a geoJSON object\n"
   ]
  },
  {
   "cell_type": "code",
   "execution_count": 22,
   "metadata": {},
   "outputs": [],
   "source": [
    "## Convert geohashes to a heatmap in geojson format\n",
    "def geohashes_to_heatmap(df):\n",
    "    # Get the distinct geohashes and their counts from the dataframe\n",
    "    geohashes = df['geohash'].value_counts()\n",
    "\n",
    "    # Get the maximum count of any geohash\n",
    "    max_count = math.log(geohashes.max())\n",
    "\n",
    "    # Convert the geohashes to a list of lists, each containing the geohash and its count\n",
    "    geohashes = [[geohash, count] for geohash, count in zip(geohashes.index, geohashes)]\n",
    "    \n",
    "    # Create a color scale for the heatmap\n",
    "    color_scale = linear.RdYlBu_10.scale(1, max_count)\n",
    "\n",
    "    # Convert geohashes to features for geoJSON\n",
    "    features = []\n",
    "\n",
    "    for geohash in geohashes:\n",
    "        # Get the bounds of the geohash\n",
    "        bounds = geolib.bounds(geohash[0])\n",
    "        color = color_scale(math.log(geohash[1]))\n",
    "\n",
    "        # Create a feature for the geohash\n",
    "        features.append({\n",
    "            \"type\": \"Feature\",\n",
    "            \"properties\": {\n",
    "                \"id\": geohash[0],\n",
    "                \"fillColor\": color,\n",
    "                \"fillOpacity\": 0.6,\n",
    "                \"stroke\": False\n",
    "            },\n",
    "            \"geometry\": {\n",
    "                \"type\": \"Polygon\",\n",
    "                \"coordinates\": [[\n",
    "                    [bounds.sw.lon, bounds.sw.lat],\n",
    "                    [bounds.sw.lon, bounds.ne.lat],\n",
    "                    [bounds.ne.lon, bounds.ne.lat],\n",
    "                    [bounds.ne.lon, bounds.sw.lat],\n",
    "                    [bounds.sw.lon, bounds.sw.lat]\n",
    "                ]]\n",
    "            },\n",
    "        })\n",
    "\n",
    "    # Convert the geohashes to a heatmap in geojson format\n",
    "    return {\n",
    "        \"type\" : \"FeatureCollection\",\n",
    "        \"features\": features\n",
    "    }"
   ]
  },
  {
   "cell_type": "code",
   "execution_count": 23,
   "metadata": {},
   "outputs": [],
   "source": [
    "# Convert the geohashes to a heatmap in geojson format\n",
    "heatmap = geohashes_to_heatmap(geohashes_df)\n",
    "\n",
    "# Save GeoJSON with double quotes\n",
    "with open('results/heatmap.geojson', 'w') as f:\n",
    "    json.dump(heatmap, f)"
   ]
  },
  {
   "cell_type": "code",
   "execution_count": 24,
   "metadata": {},
   "outputs": [],
   "source": [
    "# Visualize as a heatmap using Folium\n",
    "# Create a folium map centered at an initial location\n",
    "def create_map(geojson, mapname, legend=None):\n",
    "    m = folium.Map(location=[46.9446011, 7.4143311],zoom_start=6, tiles='https://tiles.stadiamaps.com/tiles/stamen_toner_lite/{z}/{x}/{y}{r}.png?api_key=977802c5-9b2e-4fc3-9254-a9199d0d5d0c', attr='https://stadiamaps.com/')\n",
    "\n",
    "    # Define a style function to set the color of the polygon\n",
    "    def style_function(feature):\n",
    "        return {\n",
    "            'fillColor': feature[\"properties\"][\"fillColor\"],  # Change this to the desired color\n",
    "            'stroke': feature[\"properties\"][\"stroke\"],\n",
    "            'fillOpacity': feature[\"properties\"][\"fillOpacity\"],\n",
    "        }\n",
    "\n",
    "    # Add GeoJSON data to the map with the style function\n",
    "    folium.GeoJson(\n",
    "        geojson,\n",
    "        name='Polygon Layer',\n",
    "        style_function=style_function,\n",
    "    ).add_to(m)\n",
    "\n",
    "    # Add Layer Control to the map\n",
    "    folium.LayerControl().add_to(m)\n",
    "\n",
    "    if legend:\n",
    "        m.get_root().html.add_child(folium.Element(legend))\n",
    "\n",
    "    # Save or display the map\n",
    "    m.save(\"maps/\"+mapname)\n"
   ]
  },
  {
   "cell_type": "code",
   "execution_count": 25,
   "metadata": {},
   "outputs": [],
   "source": [
    "create_map(heatmap, \"heatmap.html\")"
   ]
  },
  {
   "cell_type": "code",
   "execution_count": 27,
   "metadata": {},
   "outputs": [],
   "source": [
    "!open -a Arc maps/heatmap.html"
   ]
  },
  {
   "cell_type": "markdown",
   "metadata": {},
   "source": [
    "## Get the map of the most used vehicles"
   ]
  },
  {
   "cell_type": "code",
   "execution_count": 28,
   "metadata": {},
   "outputs": [
    {
     "data": {
      "text/html": [
       "<div>\n",
       "<style scoped>\n",
       "    .dataframe tbody tr th:only-of-type {\n",
       "        vertical-align: middle;\n",
       "    }\n",
       "\n",
       "    .dataframe tbody tr th {\n",
       "        vertical-align: top;\n",
       "    }\n",
       "\n",
       "    .dataframe thead th {\n",
       "        text-align: right;\n",
       "    }\n",
       "</style>\n",
       "<table border=\"1\" class=\"dataframe\">\n",
       "  <thead>\n",
       "    <tr style=\"text-align: right;\">\n",
       "      <th></th>\n",
       "      <th>geohash</th>\n",
       "      <th>mean_of_transport</th>\n",
       "    </tr>\n",
       "  </thead>\n",
       "  <tbody>\n",
       "    <tr>\n",
       "      <th>0</th>\n",
       "      <td>u0m44x</td>\n",
       "      <td>ON_BICYCLE</td>\n",
       "    </tr>\n",
       "    <tr>\n",
       "      <th>1</th>\n",
       "      <td>u0m44z</td>\n",
       "      <td>WALKING</td>\n",
       "    </tr>\n",
       "    <tr>\n",
       "      <th>2</th>\n",
       "      <td>u0m46b</td>\n",
       "      <td>ON_BICYCLE</td>\n",
       "    </tr>\n",
       "    <tr>\n",
       "      <th>3</th>\n",
       "      <td>u0m3ed</td>\n",
       "      <td>WALKING</td>\n",
       "    </tr>\n",
       "    <tr>\n",
       "      <th>4</th>\n",
       "      <td>u0kb8b</td>\n",
       "      <td>TRAIN</td>\n",
       "    </tr>\n",
       "    <tr>\n",
       "      <th>...</th>\n",
       "      <td>...</td>\n",
       "      <td>...</td>\n",
       "    </tr>\n",
       "    <tr>\n",
       "      <th>1566</th>\n",
       "      <td>u0m468</td>\n",
       "      <td>WALKING</td>\n",
       "    </tr>\n",
       "    <tr>\n",
       "      <th>1567</th>\n",
       "      <td>u0m44y</td>\n",
       "      <td>ELECTRIC_BUS</td>\n",
       "    </tr>\n",
       "    <tr>\n",
       "      <th>1568</th>\n",
       "      <td>u0m44y</td>\n",
       "      <td>WALKING</td>\n",
       "    </tr>\n",
       "    <tr>\n",
       "      <th>1569</th>\n",
       "      <td>u0m44x</td>\n",
       "      <td>WALKING</td>\n",
       "    </tr>\n",
       "    <tr>\n",
       "      <th>1570</th>\n",
       "      <td>u0m44x</td>\n",
       "      <td>WALKING</td>\n",
       "    </tr>\n",
       "  </tbody>\n",
       "</table>\n",
       "<p>3142 rows × 2 columns</p>\n",
       "</div>"
      ],
      "text/plain": [
       "     geohash mean_of_transport\n",
       "0     u0m44x        ON_BICYCLE\n",
       "1     u0m44z           WALKING\n",
       "2     u0m46b        ON_BICYCLE\n",
       "3     u0m3ed           WALKING\n",
       "4     u0kb8b             TRAIN\n",
       "...      ...               ...\n",
       "1566  u0m468           WALKING\n",
       "1567  u0m44y      ELECTRIC_BUS\n",
       "1568  u0m44y           WALKING\n",
       "1569  u0m44x           WALKING\n",
       "1570  u0m44x           WALKING\n",
       "\n",
       "[3142 rows x 2 columns]"
      ]
     },
     "execution_count": 28,
     "metadata": {},
     "output_type": "execute_result"
    }
   ],
   "source": [
    "## Get the list of geohashes with the corresponding mean of transport\n",
    "geohashes = df[['start_geohash', 'mean_of_transport']].copy()\n",
    "## Append the end_geohashes to the list of geohashes\n",
    "geohashes = gpd.GeoDataFrame(pd.concat([geohashes, df[['end_geohash', 'mean_of_transport']]]))\n",
    "## Merge start_geohashes and end_geohashes into a single column\n",
    "geohashes['geohash'] = geohashes['start_geohash'].combine_first(geohashes['end_geohash'])\n",
    "## Remove the start_geohashes and end_geohashes columns\n",
    "geohashes = geohashes[['geohash', 'mean_of_transport']]\n",
    "\n",
    "## Reduce precision of geohashes\n",
    "geohashes['geohash'] = geohashes['geohash'] #.str[:-1]\n",
    "\n",
    "geohashes"
   ]
  },
  {
   "cell_type": "code",
   "execution_count": 29,
   "metadata": {},
   "outputs": [
    {
     "data": {
      "text/html": [
       "<div>\n",
       "<style scoped>\n",
       "    .dataframe tbody tr th:only-of-type {\n",
       "        vertical-align: middle;\n",
       "    }\n",
       "\n",
       "    .dataframe tbody tr th {\n",
       "        vertical-align: top;\n",
       "    }\n",
       "\n",
       "    .dataframe thead th {\n",
       "        text-align: right;\n",
       "    }\n",
       "</style>\n",
       "<table border=\"1\" class=\"dataframe\">\n",
       "  <thead>\n",
       "    <tr style=\"text-align: right;\">\n",
       "      <th></th>\n",
       "      <th>geohash</th>\n",
       "      <th>mean_of_transport</th>\n",
       "      <th>counts</th>\n",
       "    </tr>\n",
       "  </thead>\n",
       "  <tbody>\n",
       "    <tr>\n",
       "      <th>257</th>\n",
       "      <td>u0m44x</td>\n",
       "      <td>WALKING</td>\n",
       "      <td>230</td>\n",
       "    </tr>\n",
       "    <tr>\n",
       "      <th>281</th>\n",
       "      <td>u0m468</td>\n",
       "      <td>WALKING</td>\n",
       "      <td>94</td>\n",
       "    </tr>\n",
       "    <tr>\n",
       "      <th>287</th>\n",
       "      <td>u0m46b</td>\n",
       "      <td>WALKING</td>\n",
       "      <td>91</td>\n",
       "    </tr>\n",
       "    <tr>\n",
       "      <th>263</th>\n",
       "      <td>u0m44y</td>\n",
       "      <td>WALKING</td>\n",
       "      <td>68</td>\n",
       "    </tr>\n",
       "    <tr>\n",
       "      <th>383</th>\n",
       "      <td>u0m70d</td>\n",
       "      <td>ON_BICYCLE</td>\n",
       "      <td>61</td>\n",
       "    </tr>\n",
       "    <tr>\n",
       "      <th>...</th>\n",
       "      <td>...</td>\n",
       "      <td>...</td>\n",
       "      <td>...</td>\n",
       "    </tr>\n",
       "    <tr>\n",
       "      <th>175</th>\n",
       "      <td>u0kfk9</td>\n",
       "      <td>ON_BICYCLE</td>\n",
       "      <td>1</td>\n",
       "    </tr>\n",
       "    <tr>\n",
       "      <th>494</th>\n",
       "      <td>u0mhhg</td>\n",
       "      <td>CAR</td>\n",
       "      <td>1</td>\n",
       "    </tr>\n",
       "    <tr>\n",
       "      <th>493</th>\n",
       "      <td>u0mhhf</td>\n",
       "      <td>SCOOTER</td>\n",
       "      <td>1</td>\n",
       "    </tr>\n",
       "    <tr>\n",
       "      <th>178</th>\n",
       "      <td>u0kfkd</td>\n",
       "      <td>ON_BICYCLE</td>\n",
       "      <td>1</td>\n",
       "    </tr>\n",
       "    <tr>\n",
       "      <th>488</th>\n",
       "      <td>u0mhh3</td>\n",
       "      <td>WALKING</td>\n",
       "      <td>1</td>\n",
       "    </tr>\n",
       "  </tbody>\n",
       "</table>\n",
       "<p>400 rows × 3 columns</p>\n",
       "</div>"
      ],
      "text/plain": [
       "    geohash mean_of_transport  counts\n",
       "257  u0m44x           WALKING     230\n",
       "281  u0m468           WALKING      94\n",
       "287  u0m46b           WALKING      91\n",
       "263  u0m44y           WALKING      68\n",
       "383  u0m70d        ON_BICYCLE      61\n",
       "..      ...               ...     ...\n",
       "175  u0kfk9        ON_BICYCLE       1\n",
       "494  u0mhhg               CAR       1\n",
       "493  u0mhhf           SCOOTER       1\n",
       "178  u0kfkd        ON_BICYCLE       1\n",
       "488  u0mhh3           WALKING       1\n",
       "\n",
       "[400 rows x 3 columns]"
      ]
     },
     "execution_count": 29,
     "metadata": {},
     "output_type": "execute_result"
    }
   ],
   "source": [
    "## Find the mean of transport that occurs the more often for each geohash and keep only the first one (the most used)\n",
    "geohashes_df = gpd.GeoDataFrame(geohashes, columns=['geohash', 'mean_of_transport'])\n",
    "# Get the count of the mean of transport for each geohash\n",
    "geohashes_df = geohashes_df.groupby(['geohash', 'mean_of_transport']).size().reset_index(name='counts')\n",
    "# For each geohash, keep only the mean of transport that occurs the most often\n",
    "geohashes_df = geohashes_df.sort_values('counts', ascending=False).drop_duplicates(['geohash'])\n",
    "# Remove the counts column\n",
    "#geohashes_df = geohashes_df[['geohash', 'mean_of_transport']]\n",
    "geohashes_df"
   ]
  },
  {
   "cell_type": "code",
   "execution_count": 32,
   "metadata": {},
   "outputs": [],
   "source": [
    "## Convert geohashes to a heatmap in geojson format\n",
    "def heatmap_mot(df):\n",
    "    ## Give a different color to each mean of transport\n",
    "    colors = {\n",
    "        'WALKING': '#7FC97F',\n",
    "        'ON_BICYCLE': '#BDAED4',\n",
    "        'ELECTRIC_BIKE': '#BDAED4',\n",
    "        'SCOOTER': '#BDAED4',\n",
    "        'TRAIN': '#FDBF85',\n",
    "        'BUS': '#FFFF99',\n",
    "        'ELECTRIC_BUS': '#FFFF99',\n",
    "        'CAR': '#386CB0',\n",
    "        'ELECTRIC_CAR': '#386CB0',\n",
    "        'HYBRID_CAR': '#386CB0',\n",
    "        'TRAM': '#F0027F',\n",
    "        'PLANE': '#BE5B17',\n",
    "        'BOAT': '#BE5B17'\n",
    "    }\n",
    "\n",
    "    # Convert geohashes to features for geoJSON\n",
    "    features = []\n",
    "\n",
    "    for geohash in df:\n",
    "        # Get the bounds of the geohash\n",
    "        bounds = geolib.bounds(geohash[0])\n",
    "        color = colors[geohash[1]]\n",
    "\n",
    "        # Create a feature for the geohash\n",
    "        features.append({\n",
    "            \"type\": \"Feature\",\n",
    "            \"properties\": {\n",
    "                \"id\": geohash[0],\n",
    "                \"fillColor\": color,\n",
    "                \"fillOpacity\": 0.8,\n",
    "                \"stroke\": False\n",
    "            },\n",
    "            \"geometry\": {\n",
    "                \"type\": \"Polygon\",\n",
    "                \"coordinates\": [[\n",
    "                    [bounds.sw.lon, bounds.sw.lat],\n",
    "                    [bounds.sw.lon, bounds.ne.lat],\n",
    "                    [bounds.ne.lon, bounds.ne.lat],\n",
    "                    [bounds.ne.lon, bounds.sw.lat],\n",
    "                    [bounds.sw.lon, bounds.sw.lat]\n",
    "                ]]\n",
    "            },\n",
    "        })\n",
    "\n",
    "    # Convert the geohashes to a heatmap in geojson format\n",
    "    return {\n",
    "        \"type\" : \"FeatureCollection\",\n",
    "        \"features\": features\n",
    "    }"
   ]
  },
  {
   "cell_type": "code",
   "execution_count": 33,
   "metadata": {},
   "outputs": [],
   "source": [
    "# Convert the means of transport to a heatmap in geojson format\n",
    "heatmap = heatmap_mot(geohashes_df.values)\n",
    "\n",
    "# Save GeoJSON with double quotes\n",
    "with open('results/heatmap_mot.geojson', 'w') as f:\n",
    "    json.dump(heatmap, f)"
   ]
  },
  {
   "cell_type": "code",
   "execution_count": 34,
   "metadata": {},
   "outputs": [],
   "source": [
    "create_map(heatmap, \"heatmap_mot.html\", legend_html)"
   ]
  },
  {
   "cell_type": "code",
   "execution_count": 35,
   "metadata": {},
   "outputs": [],
   "source": [
    "!open -a Arc maps/heatmap_mot.html"
   ]
  },
  {
   "cell_type": "markdown",
   "metadata": {},
   "source": [
    "## Get the map of the movements (start to end point)"
   ]
  },
  {
   "cell_type": "code",
   "execution_count": 36,
   "metadata": {},
   "outputs": [],
   "source": [
    "# Now we should create a map with lines between the geohashes, with the color of the line corresponding to the mean of transport\n",
    "# We should also create a legend for the map\n",
    "\n",
    "## Create the actual folium map\n",
    "m = folium.Map(location=[46.9446011, 7.4143311], zoom_start=8, tiles='https://tiles.stadiamaps.com/tiles/stamen_toner_lite/{z}/{x}/{y}{r}.png?api_key=977802c5-9b2e-4fc3-9254-a9199d0d5d0c', attr='https://stadiamaps.com/')\n",
    "# Draw a path for each movement\n",
    "for index, row in df.iterrows():\n",
    "    draw_path(row['start_geohash'], row['end_geohash'], row['mean_of_transport'], m, weight = 2, tooltip=row['participant_id'])\n",
    "\n",
    "\n",
    "## Add the legend to the map\n",
    "m.get_root().html.add_child(folium.Element(legend_html))\n",
    "\n",
    "## Save the map as an html file\n",
    "m.save('maps/paths_map_mot.html')\n",
    "\n",
    "!open -a Arc maps/paths_map_mot.html"
   ]
  },
  {
   "cell_type": "code",
   "execution_count": null,
   "metadata": {},
   "outputs": [],
   "source": []
  }
 ],
 "metadata": {
  "kernelspec": {
   "display_name": "osmnx",
   "language": "python",
   "name": "python3"
  },
  "language_info": {
   "codemirror_mode": {
    "name": "ipython",
    "version": 3
   },
   "file_extension": ".py",
   "mimetype": "text/x-python",
   "name": "python",
   "nbconvert_exporter": "python",
   "pygments_lexer": "ipython3",
   "version": "3.9.6"
  }
 },
 "nbformat": 4,
 "nbformat_minor": 2
}
