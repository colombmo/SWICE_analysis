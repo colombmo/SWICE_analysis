{
 "cells": [
  {
   "cell_type": "markdown",
   "metadata": {},
   "source": [
    "# Movement data analysis"
   ]
  },
  {
   "cell_type": "markdown",
   "metadata": {},
   "source": [
    "Analyze the movement data collected during the experiment"
   ]
  },
  {
   "cell_type": "markdown",
   "metadata": {},
   "source": [
    "## Import data and libraries"
   ]
  },
  {
   "cell_type": "code",
   "execution_count": 1,
   "metadata": {},
   "outputs": [
    {
     "name": "stderr",
     "output_type": "stream",
     "text": [
      "/Users/colombmo/Documents/Lavoro/SWICE/Software/tests/OSMnx/osmnx/lib/python3.9/site-packages/urllib3/__init__.py:34: NotOpenSSLWarning: urllib3 v2.0 only supports OpenSSL 1.1.1+, currently the 'ssl' module is compiled with 'LibreSSL 2.8.3'. See: https://github.com/urllib3/urllib3/issues/3020\n",
      "  warnings.warn(\n"
     ]
    }
   ],
   "source": [
    "import geopandas as gpd\n",
    "import pandas as pd\n",
    "import folium\n",
    "from folium.plugins import HeatMap\n",
    "from branca.colormap import linear\n",
    "from geolib import geohash as geolib\n",
    "import json\n",
    "import math\n",
    "import random\n",
    "import arc_drawer\n",
    "import numpy as np\n",
    "import pydeck as pdk"
   ]
  },
  {
   "cell_type": "code",
   "execution_count": 2,
   "metadata": {},
   "outputs": [],
   "source": [
    "# Defined legend\n",
    "legend_html = '''\n",
    "     <div style=\"position: fixed; \n",
    "                 bottom: 50px; left: 50px; width: 160px; height: 300px; \n",
    "                 background-color: white; border:2px solid grey; z-index:9999; \n",
    "                 font-size:14px;\">\n",
    "     &nbsp; <b>Legend</b> <br>\n",
    "     &nbsp; Walking &nbsp; <i class=\"fa fa-square\" style=\"color:#7FC97F\"></i><br>\n",
    "     &nbsp; On Bicycle &nbsp; <i class=\"fa fa-square\" style=\"color:#BDAED4\"></i><br>\n",
    "     &nbsp; Train &nbsp; <i class=\"fa fa-square\" style=\"color:#FDBF85\"></i><br>\n",
    "     &nbsp; Bus &nbsp; <i class=\"fa fa-square\" style=\"color:#FFFF99\"></i><br>\n",
    "     &nbsp; Electric Bus &nbsp; <i class=\"fa fa-square\" style=\"color:#FFFF99\"></i><br>\n",
    "     &nbsp; Car &nbsp; <i class=\"fa fa-square\" style=\"color:#386CB0\"></i><br>\n",
    "     &nbsp; Tram &nbsp; <i class=\"fa fa-square\" style=\"color:#F0027F\"></i><br>\n",
    "     &nbsp; Plane &nbsp; <i class=\"fa fa-square\" style=\"color:#BE5B17\"></i><br>\n",
    "     &nbsp; Boat &nbsp; <i class=\"fa fa-square\" style=\"color:#BE5B17\"></i><br>\n",
    "      </div>\n",
    "     '''"
   ]
  },
  {
   "cell_type": "code",
   "execution_count": 3,
   "metadata": {},
   "outputs": [
    {
     "data": {
      "text/html": [
       "<div>\n",
       "<style scoped>\n",
       "    .dataframe tbody tr th:only-of-type {\n",
       "        vertical-align: middle;\n",
       "    }\n",
       "\n",
       "    .dataframe tbody tr th {\n",
       "        vertical-align: top;\n",
       "    }\n",
       "\n",
       "    .dataframe thead th {\n",
       "        text-align: right;\n",
       "    }\n",
       "</style>\n",
       "<table border=\"1\" class=\"dataframe\">\n",
       "  <thead>\n",
       "    <tr style=\"text-align: right;\">\n",
       "      <th></th>\n",
       "      <th>participant_id</th>\n",
       "      <th>start_time</th>\n",
       "      <th>end_time</th>\n",
       "      <th>start_geohash</th>\n",
       "      <th>end_geohash</th>\n",
       "      <th>distance(m)</th>\n",
       "      <th>mean_of_transport</th>\n",
       "      <th>original_mean_of_transport</th>\n",
       "      <th>gCO2</th>\n",
       "      <th>is_power_saving</th>\n",
       "      <th>geometry</th>\n",
       "    </tr>\n",
       "  </thead>\n",
       "  <tbody>\n",
       "    <tr>\n",
       "      <th>0</th>\n",
       "      <td>1199121CX</td>\n",
       "      <td>2024-09-03 11:28:03+00:00</td>\n",
       "      <td>2024-09-03 11:30:07+00:00</td>\n",
       "      <td>u0m44x</td>\n",
       "      <td>u0m44x</td>\n",
       "      <td>518</td>\n",
       "      <td>ON_BICYCLE</td>\n",
       "      <td>ON_BICYCLE</td>\n",
       "      <td>2</td>\n",
       "      <td>False</td>\n",
       "      <td>None</td>\n",
       "    </tr>\n",
       "    <tr>\n",
       "      <th>1</th>\n",
       "      <td>1199121CX</td>\n",
       "      <td>2024-09-03 15:12:18+00:00</td>\n",
       "      <td>2024-09-03 15:17:23+00:00</td>\n",
       "      <td>u0m44x</td>\n",
       "      <td>u0m44x</td>\n",
       "      <td>359</td>\n",
       "      <td>WALKING</td>\n",
       "      <td>WALKING</td>\n",
       "      <td>0</td>\n",
       "      <td>False</td>\n",
       "      <td>None</td>\n",
       "    </tr>\n",
       "    <tr>\n",
       "      <th>2</th>\n",
       "      <td>1199121CX</td>\n",
       "      <td>2024-09-03 15:52:14+00:00</td>\n",
       "      <td>2024-09-03 15:59:24+00:00</td>\n",
       "      <td>u0m44x</td>\n",
       "      <td>u0m468</td>\n",
       "      <td>416</td>\n",
       "      <td>WALKING</td>\n",
       "      <td>WALKING</td>\n",
       "      <td>0</td>\n",
       "      <td>False</td>\n",
       "      <td>None</td>\n",
       "    </tr>\n",
       "    <tr>\n",
       "      <th>3</th>\n",
       "      <td>1199121CX</td>\n",
       "      <td>2024-09-03 15:59:25+00:00</td>\n",
       "      <td>2024-09-03 16:21:34+00:00</td>\n",
       "      <td>u0m468</td>\n",
       "      <td>u0m464</td>\n",
       "      <td>3091</td>\n",
       "      <td>ELECTRIC_BUS</td>\n",
       "      <td>ELECTRIC_BUS</td>\n",
       "      <td>197</td>\n",
       "      <td>False</td>\n",
       "      <td>None</td>\n",
       "    </tr>\n",
       "    <tr>\n",
       "      <th>4</th>\n",
       "      <td>4L5S1E</td>\n",
       "      <td>2024-09-03 16:23:18+00:00</td>\n",
       "      <td>2024-09-03 16:25:21+00:00</td>\n",
       "      <td>u0m709</td>\n",
       "      <td>u0m70d</td>\n",
       "      <td>570</td>\n",
       "      <td>ON_BICYCLE</td>\n",
       "      <td>ON_BICYCLE</td>\n",
       "      <td>3</td>\n",
       "      <td>False</td>\n",
       "      <td>None</td>\n",
       "    </tr>\n",
       "    <tr>\n",
       "      <th>...</th>\n",
       "      <td>...</td>\n",
       "      <td>...</td>\n",
       "      <td>...</td>\n",
       "      <td>...</td>\n",
       "      <td>...</td>\n",
       "      <td>...</td>\n",
       "      <td>...</td>\n",
       "      <td>...</td>\n",
       "      <td>...</td>\n",
       "      <td>...</td>\n",
       "      <td>...</td>\n",
       "    </tr>\n",
       "    <tr>\n",
       "      <th>8918</th>\n",
       "      <td>6S5T1H</td>\n",
       "      <td>2025-02-21 14:59:17+00:00</td>\n",
       "      <td>2025-02-21 16:08:48+00:00</td>\n",
       "      <td>u0m714</td>\n",
       "      <td>u0qjd3</td>\n",
       "      <td>96515</td>\n",
       "      <td>TRAIN</td>\n",
       "      <td>TRAIN</td>\n",
       "      <td>675</td>\n",
       "      <td>False</td>\n",
       "      <td>None</td>\n",
       "    </tr>\n",
       "    <tr>\n",
       "      <th>8919</th>\n",
       "      <td>9B11R1G</td>\n",
       "      <td>2025-02-21 15:21:09+00:00</td>\n",
       "      <td>2025-02-21 15:26:03+00:00</td>\n",
       "      <td>u0mhhv</td>\n",
       "      <td>u0mhjn</td>\n",
       "      <td>1266</td>\n",
       "      <td>ON_BICYCLE</td>\n",
       "      <td>ON_BICYCLE</td>\n",
       "      <td>7</td>\n",
       "      <td>False</td>\n",
       "      <td>None</td>\n",
       "    </tr>\n",
       "    <tr>\n",
       "      <th>8920</th>\n",
       "      <td>2L1M1R</td>\n",
       "      <td>2025-02-21 15:58:07+00:00</td>\n",
       "      <td>2025-02-21 16:18:18+00:00</td>\n",
       "      <td>u0kfrt</td>\n",
       "      <td>u0kcuv</td>\n",
       "      <td>16226</td>\n",
       "      <td>CAR</td>\n",
       "      <td>CAR</td>\n",
       "      <td>3018</td>\n",
       "      <td>False</td>\n",
       "      <td>None</td>\n",
       "    </tr>\n",
       "    <tr>\n",
       "      <th>8921</th>\n",
       "      <td>7O12A1M</td>\n",
       "      <td>2025-02-21 16:15:12+00:00</td>\n",
       "      <td>2025-02-21 16:16:35+00:00</td>\n",
       "      <td>u0m44y</td>\n",
       "      <td>u0m44y</td>\n",
       "      <td>281</td>\n",
       "      <td>BUS</td>\n",
       "      <td>BUS</td>\n",
       "      <td>37</td>\n",
       "      <td>False</td>\n",
       "      <td>None</td>\n",
       "    </tr>\n",
       "    <tr>\n",
       "      <th>8922</th>\n",
       "      <td>8G2B2C</td>\n",
       "      <td>2025-02-21 16:16:56+00:00</td>\n",
       "      <td>2025-02-21 16:40:43+00:00</td>\n",
       "      <td>u0m44x</td>\n",
       "      <td>u0m468</td>\n",
       "      <td>551</td>\n",
       "      <td>WALKING</td>\n",
       "      <td>WALKING</td>\n",
       "      <td>0</td>\n",
       "      <td>False</td>\n",
       "      <td>None</td>\n",
       "    </tr>\n",
       "  </tbody>\n",
       "</table>\n",
       "<p>8923 rows × 11 columns</p>\n",
       "</div>"
      ],
      "text/plain": [
       "     participant_id                 start_time                   end_time  \\\n",
       "0         1199121CX  2024-09-03 11:28:03+00:00  2024-09-03 11:30:07+00:00   \n",
       "1         1199121CX  2024-09-03 15:12:18+00:00  2024-09-03 15:17:23+00:00   \n",
       "2         1199121CX  2024-09-03 15:52:14+00:00  2024-09-03 15:59:24+00:00   \n",
       "3         1199121CX  2024-09-03 15:59:25+00:00  2024-09-03 16:21:34+00:00   \n",
       "4            4L5S1E  2024-09-03 16:23:18+00:00  2024-09-03 16:25:21+00:00   \n",
       "...             ...                        ...                        ...   \n",
       "8918         6S5T1H  2025-02-21 14:59:17+00:00  2025-02-21 16:08:48+00:00   \n",
       "8919        9B11R1G  2025-02-21 15:21:09+00:00  2025-02-21 15:26:03+00:00   \n",
       "8920         2L1M1R  2025-02-21 15:58:07+00:00  2025-02-21 16:18:18+00:00   \n",
       "8921        7O12A1M  2025-02-21 16:15:12+00:00  2025-02-21 16:16:35+00:00   \n",
       "8922         8G2B2C  2025-02-21 16:16:56+00:00  2025-02-21 16:40:43+00:00   \n",
       "\n",
       "     start_geohash end_geohash distance(m) mean_of_transport  \\\n",
       "0           u0m44x      u0m44x         518        ON_BICYCLE   \n",
       "1           u0m44x      u0m44x         359           WALKING   \n",
       "2           u0m44x      u0m468         416           WALKING   \n",
       "3           u0m468      u0m464        3091      ELECTRIC_BUS   \n",
       "4           u0m709      u0m70d         570        ON_BICYCLE   \n",
       "...            ...         ...         ...               ...   \n",
       "8918        u0m714      u0qjd3       96515             TRAIN   \n",
       "8919        u0mhhv      u0mhjn        1266        ON_BICYCLE   \n",
       "8920        u0kfrt      u0kcuv       16226               CAR   \n",
       "8921        u0m44y      u0m44y         281               BUS   \n",
       "8922        u0m44x      u0m468         551           WALKING   \n",
       "\n",
       "     original_mean_of_transport  gCO2 is_power_saving geometry  \n",
       "0                    ON_BICYCLE     2           False     None  \n",
       "1                       WALKING     0           False     None  \n",
       "2                       WALKING     0           False     None  \n",
       "3                  ELECTRIC_BUS   197           False     None  \n",
       "4                    ON_BICYCLE     3           False     None  \n",
       "...                         ...   ...             ...      ...  \n",
       "8918                      TRAIN   675           False     None  \n",
       "8919                 ON_BICYCLE     7           False     None  \n",
       "8920                        CAR  3018           False     None  \n",
       "8921                        BUS    37           False     None  \n",
       "8922                    WALKING     0           False     None  \n",
       "\n",
       "[8923 rows x 11 columns]"
      ]
     },
     "execution_count": 3,
     "metadata": {},
     "output_type": "execute_result"
    }
   ],
   "source": [
    "\n",
    "# Read the data from the csv\n",
    "df = gpd.read_file('data/Test_movements.csv')\n",
    "df"
   ]
  },
  {
   "cell_type": "code",
   "execution_count": 4,
   "metadata": {},
   "outputs": [
    {
     "data": {
      "text/html": [
       "<div>\n",
       "<style scoped>\n",
       "    .dataframe tbody tr th:only-of-type {\n",
       "        vertical-align: middle;\n",
       "    }\n",
       "\n",
       "    .dataframe tbody tr th {\n",
       "        vertical-align: top;\n",
       "    }\n",
       "\n",
       "    .dataframe thead th {\n",
       "        text-align: right;\n",
       "    }\n",
       "</style>\n",
       "<table border=\"1\" class=\"dataframe\">\n",
       "  <thead>\n",
       "    <tr style=\"text-align: right;\">\n",
       "      <th></th>\n",
       "      <th>participant_id</th>\n",
       "      <th>start_time</th>\n",
       "      <th>end_time</th>\n",
       "      <th>start_geohash</th>\n",
       "      <th>end_geohash</th>\n",
       "      <th>distance(m)</th>\n",
       "      <th>mean_of_transport</th>\n",
       "      <th>original_mean_of_transport</th>\n",
       "      <th>gCO2</th>\n",
       "      <th>is_power_saving</th>\n",
       "      <th>geometry</th>\n",
       "    </tr>\n",
       "  </thead>\n",
       "  <tbody>\n",
       "    <tr>\n",
       "      <th>0</th>\n",
       "      <td>1199121CX</td>\n",
       "      <td>2024-09-03 11:28:03</td>\n",
       "      <td>2024-09-03 11:30:07</td>\n",
       "      <td>u0m44x</td>\n",
       "      <td>u0m44x</td>\n",
       "      <td>518</td>\n",
       "      <td>ON_BICYCLE</td>\n",
       "      <td>ON_BICYCLE</td>\n",
       "      <td>2</td>\n",
       "      <td>False</td>\n",
       "      <td>None</td>\n",
       "    </tr>\n",
       "    <tr>\n",
       "      <th>1</th>\n",
       "      <td>1199121CX</td>\n",
       "      <td>2024-09-03 15:12:18</td>\n",
       "      <td>2024-09-03 15:17:23</td>\n",
       "      <td>u0m44x</td>\n",
       "      <td>u0m44x</td>\n",
       "      <td>359</td>\n",
       "      <td>WALKING</td>\n",
       "      <td>WALKING</td>\n",
       "      <td>0</td>\n",
       "      <td>False</td>\n",
       "      <td>None</td>\n",
       "    </tr>\n",
       "    <tr>\n",
       "      <th>2</th>\n",
       "      <td>1199121CX</td>\n",
       "      <td>2024-09-03 15:52:14</td>\n",
       "      <td>2024-09-03 15:59:24</td>\n",
       "      <td>u0m44x</td>\n",
       "      <td>u0m468</td>\n",
       "      <td>416</td>\n",
       "      <td>WALKING</td>\n",
       "      <td>WALKING</td>\n",
       "      <td>0</td>\n",
       "      <td>False</td>\n",
       "      <td>None</td>\n",
       "    </tr>\n",
       "    <tr>\n",
       "      <th>3</th>\n",
       "      <td>1199121CX</td>\n",
       "      <td>2024-09-03 15:59:25</td>\n",
       "      <td>2024-09-03 16:21:34</td>\n",
       "      <td>u0m468</td>\n",
       "      <td>u0m464</td>\n",
       "      <td>3091</td>\n",
       "      <td>ELECTRIC_BUS</td>\n",
       "      <td>ELECTRIC_BUS</td>\n",
       "      <td>197</td>\n",
       "      <td>False</td>\n",
       "      <td>None</td>\n",
       "    </tr>\n",
       "    <tr>\n",
       "      <th>4</th>\n",
       "      <td>4L5S1E</td>\n",
       "      <td>2024-09-03 16:23:18</td>\n",
       "      <td>2024-09-03 16:25:21</td>\n",
       "      <td>u0m709</td>\n",
       "      <td>u0m70d</td>\n",
       "      <td>570</td>\n",
       "      <td>ON_BICYCLE</td>\n",
       "      <td>ON_BICYCLE</td>\n",
       "      <td>3</td>\n",
       "      <td>False</td>\n",
       "      <td>None</td>\n",
       "    </tr>\n",
       "    <tr>\n",
       "      <th>...</th>\n",
       "      <td>...</td>\n",
       "      <td>...</td>\n",
       "      <td>...</td>\n",
       "      <td>...</td>\n",
       "      <td>...</td>\n",
       "      <td>...</td>\n",
       "      <td>...</td>\n",
       "      <td>...</td>\n",
       "      <td>...</td>\n",
       "      <td>...</td>\n",
       "      <td>...</td>\n",
       "    </tr>\n",
       "    <tr>\n",
       "      <th>8918</th>\n",
       "      <td>6S5T1H</td>\n",
       "      <td>2025-02-21 14:59:17</td>\n",
       "      <td>2025-02-21 16:08:48</td>\n",
       "      <td>u0m714</td>\n",
       "      <td>u0qjd3</td>\n",
       "      <td>96515</td>\n",
       "      <td>TRAIN</td>\n",
       "      <td>TRAIN</td>\n",
       "      <td>675</td>\n",
       "      <td>False</td>\n",
       "      <td>None</td>\n",
       "    </tr>\n",
       "    <tr>\n",
       "      <th>8919</th>\n",
       "      <td>9B11R1G</td>\n",
       "      <td>2025-02-21 15:21:09</td>\n",
       "      <td>2025-02-21 15:26:03</td>\n",
       "      <td>u0mhhv</td>\n",
       "      <td>u0mhjn</td>\n",
       "      <td>1266</td>\n",
       "      <td>ON_BICYCLE</td>\n",
       "      <td>ON_BICYCLE</td>\n",
       "      <td>7</td>\n",
       "      <td>False</td>\n",
       "      <td>None</td>\n",
       "    </tr>\n",
       "    <tr>\n",
       "      <th>8920</th>\n",
       "      <td>2L1M1R</td>\n",
       "      <td>2025-02-21 15:58:07</td>\n",
       "      <td>2025-02-21 16:18:18</td>\n",
       "      <td>u0kfrt</td>\n",
       "      <td>u0kcuv</td>\n",
       "      <td>16226</td>\n",
       "      <td>CAR</td>\n",
       "      <td>CAR</td>\n",
       "      <td>3018</td>\n",
       "      <td>False</td>\n",
       "      <td>None</td>\n",
       "    </tr>\n",
       "    <tr>\n",
       "      <th>8921</th>\n",
       "      <td>7O12A1M</td>\n",
       "      <td>2025-02-21 16:15:12</td>\n",
       "      <td>2025-02-21 16:16:35</td>\n",
       "      <td>u0m44y</td>\n",
       "      <td>u0m44y</td>\n",
       "      <td>281</td>\n",
       "      <td>BUS</td>\n",
       "      <td>BUS</td>\n",
       "      <td>37</td>\n",
       "      <td>False</td>\n",
       "      <td>None</td>\n",
       "    </tr>\n",
       "    <tr>\n",
       "      <th>8922</th>\n",
       "      <td>8G2B2C</td>\n",
       "      <td>2025-02-21 16:16:56</td>\n",
       "      <td>2025-02-21 16:40:43</td>\n",
       "      <td>u0m44x</td>\n",
       "      <td>u0m468</td>\n",
       "      <td>551</td>\n",
       "      <td>WALKING</td>\n",
       "      <td>WALKING</td>\n",
       "      <td>0</td>\n",
       "      <td>False</td>\n",
       "      <td>None</td>\n",
       "    </tr>\n",
       "  </tbody>\n",
       "</table>\n",
       "<p>8923 rows × 11 columns</p>\n",
       "</div>"
      ],
      "text/plain": [
       "     participant_id           start_time             end_time start_geohash  \\\n",
       "0         1199121CX  2024-09-03 11:28:03  2024-09-03 11:30:07        u0m44x   \n",
       "1         1199121CX  2024-09-03 15:12:18  2024-09-03 15:17:23        u0m44x   \n",
       "2         1199121CX  2024-09-03 15:52:14  2024-09-03 15:59:24        u0m44x   \n",
       "3         1199121CX  2024-09-03 15:59:25  2024-09-03 16:21:34        u0m468   \n",
       "4            4L5S1E  2024-09-03 16:23:18  2024-09-03 16:25:21        u0m709   \n",
       "...             ...                  ...                  ...           ...   \n",
       "8918         6S5T1H  2025-02-21 14:59:17  2025-02-21 16:08:48        u0m714   \n",
       "8919        9B11R1G  2025-02-21 15:21:09  2025-02-21 15:26:03        u0mhhv   \n",
       "8920         2L1M1R  2025-02-21 15:58:07  2025-02-21 16:18:18        u0kfrt   \n",
       "8921        7O12A1M  2025-02-21 16:15:12  2025-02-21 16:16:35        u0m44y   \n",
       "8922         8G2B2C  2025-02-21 16:16:56  2025-02-21 16:40:43        u0m44x   \n",
       "\n",
       "     end_geohash distance(m) mean_of_transport original_mean_of_transport  \\\n",
       "0         u0m44x         518        ON_BICYCLE                 ON_BICYCLE   \n",
       "1         u0m44x         359           WALKING                    WALKING   \n",
       "2         u0m468         416           WALKING                    WALKING   \n",
       "3         u0m464        3091      ELECTRIC_BUS               ELECTRIC_BUS   \n",
       "4         u0m70d         570        ON_BICYCLE                 ON_BICYCLE   \n",
       "...          ...         ...               ...                        ...   \n",
       "8918      u0qjd3       96515             TRAIN                      TRAIN   \n",
       "8919      u0mhjn        1266        ON_BICYCLE                 ON_BICYCLE   \n",
       "8920      u0kcuv       16226               CAR                        CAR   \n",
       "8921      u0m44y         281               BUS                        BUS   \n",
       "8922      u0m468         551           WALKING                    WALKING   \n",
       "\n",
       "      gCO2 is_power_saving geometry  \n",
       "0        2           False     None  \n",
       "1        0           False     None  \n",
       "2        0           False     None  \n",
       "3      197           False     None  \n",
       "4        3           False     None  \n",
       "...    ...             ...      ...  \n",
       "8918   675           False     None  \n",
       "8919     7           False     None  \n",
       "8920  3018           False     None  \n",
       "8921    37           False     None  \n",
       "8922     0           False     None  \n",
       "\n",
       "[8923 rows x 11 columns]"
      ]
     },
     "execution_count": 4,
     "metadata": {},
     "output_type": "execute_result"
    }
   ],
   "source": [
    "# Show df with time without +00:00\n",
    "df['start_time'] = df['start_time'].str[:-6]\n",
    "df['end_time'] = df['end_time'].str[:-6]\n",
    "df"
   ]
  },
  {
   "cell_type": "code",
   "execution_count": 5,
   "metadata": {},
   "outputs": [
    {
     "data": {
      "text/plain": [
       "49"
      ]
     },
     "execution_count": 5,
     "metadata": {},
     "output_type": "execute_result"
    }
   ],
   "source": [
    "# Count distinct participant_ids\n",
    "df['participant_id'].nunique()"
   ]
  },
  {
   "cell_type": "code",
   "execution_count": 6,
   "metadata": {},
   "outputs": [],
   "source": [
    "# Remove 2 last characters of geohash\n",
    "#df['start_geohash'] = df['start_geohash'].str[:-1]\n",
    "#df['end_geohash'] = df['end_geohash'].str[:-1]"
   ]
  },
  {
   "cell_type": "code",
   "execution_count": 7,
   "metadata": {},
   "outputs": [],
   "source": [
    "## Convert distance to int\n",
    "df['distance(m)'] = df['distance(m)'].astype(int)\n",
    "\n",
    "## Convert gCO2 to int\n",
    "df['gCO2'] = df['gCO2'].astype(int)"
   ]
  },
  {
   "cell_type": "code",
   "execution_count": 8,
   "metadata": {},
   "outputs": [
    {
     "data": {
      "text/html": [
       "<div>\n",
       "<style scoped>\n",
       "    .dataframe tbody tr th:only-of-type {\n",
       "        vertical-align: middle;\n",
       "    }\n",
       "\n",
       "    .dataframe tbody tr th {\n",
       "        vertical-align: top;\n",
       "    }\n",
       "\n",
       "    .dataframe thead th {\n",
       "        text-align: right;\n",
       "    }\n",
       "</style>\n",
       "<table border=\"1\" class=\"dataframe\">\n",
       "  <thead>\n",
       "    <tr style=\"text-align: right;\">\n",
       "      <th></th>\n",
       "      <th>participant_id</th>\n",
       "      <th>start_time</th>\n",
       "      <th>end_time</th>\n",
       "      <th>start_geohash</th>\n",
       "      <th>end_geohash</th>\n",
       "      <th>distance(m)</th>\n",
       "      <th>mean_of_transport</th>\n",
       "      <th>original_mean_of_transport</th>\n",
       "      <th>gCO2</th>\n",
       "      <th>is_power_saving</th>\n",
       "      <th>geometry</th>\n",
       "    </tr>\n",
       "  </thead>\n",
       "  <tbody>\n",
       "    <tr>\n",
       "      <th>925</th>\n",
       "      <td>4L5S1E</td>\n",
       "      <td>2024-10-05 01:47:44</td>\n",
       "      <td>2024-10-05 03:02:26</td>\n",
       "      <td>drt3pc</td>\n",
       "      <td>drzh36</td>\n",
       "      <td>301978</td>\n",
       "      <td>PLANE</td>\n",
       "      <td>CAR</td>\n",
       "      <td>79420</td>\n",
       "      <td>False</td>\n",
       "      <td>None</td>\n",
       "    </tr>\n",
       "  </tbody>\n",
       "</table>\n",
       "</div>"
      ],
      "text/plain": [
       "    participant_id           start_time             end_time start_geohash  \\\n",
       "925         4L5S1E  2024-10-05 01:47:44  2024-10-05 03:02:26        drt3pc   \n",
       "\n",
       "    end_geohash  distance(m) mean_of_transport original_mean_of_transport  \\\n",
       "925      drzh36       301978             PLANE                        CAR   \n",
       "\n",
       "      gCO2 is_power_saving geometry  \n",
       "925  79420           False     None  "
      ]
     },
     "execution_count": 8,
     "metadata": {},
     "output_type": "execute_result"
    }
   ],
   "source": [
    "# Get data with mode_of_transport = \"PLANE\" and original_mode_of_transport = \"CAR\"\n",
    "df[(df['mean_of_transport'] == 'PLANE') & (df['original_mean_of_transport'] == 'CAR')]"
   ]
  },
  {
   "cell_type": "code",
   "execution_count": 9,
   "metadata": {},
   "outputs": [
    {
     "data": {
      "text/plain": [
       "participant_id\n",
       "4L5S1E       1537\n",
       "8G2B2C        746\n",
       "9B11R1G       712\n",
       "219827XMX     606\n",
       "119817XU1     581\n",
       "5U3B1R        579\n",
       "6M9B3S        480\n",
       "1L3E1K        406\n",
       "6F10L1F       385\n",
       "3G8GXJ        373\n",
       "8N7L1U        323\n",
       "6R9HXD        289\n",
       "10F11M1A      221\n",
       "12C6B1D       140\n",
       "2L7HXA        127\n",
       "0W1M6R        100\n",
       "12C8M2J        97\n",
       "2L1M1R         92\n",
       "3B10M2A        88\n",
       "9P3WXJ         88\n",
       "9F2AXJ         79\n",
       "9B6T1M         71\n",
       "7C3E1I         68\n",
       "5F6GXO         66\n",
       "1F9H2J         59\n",
       "1F3EXR         51\n",
       "11H6C1Y        47\n",
       "4C5PXH         47\n",
       "219935XE1      47\n",
       "11L5W1P        46\n",
       "1199121CX      40\n",
       "6Z11P2C        37\n",
       "10W12MXM       35\n",
       "10V1G4T        33\n",
       "119963XR1      31\n",
       "219957XAX      30\n",
       "2F1S2P         30\n",
       "8G2B1C         24\n",
       "6S5T1H         22\n",
       "4K5D1A         13\n",
       "5F11B1P        13\n",
       "220092XJ1      13\n",
       "7O12A1M        12\n",
       "9W2ZXI         11\n",
       "12F10D1A       10\n",
       "8A1A2H          7\n",
       "1A10MXP         5\n",
       "0H2T3S          4\n",
       "3M2B2K          2\n",
       "Name: count, dtype: int64"
      ]
     },
     "execution_count": 9,
     "metadata": {},
     "output_type": "execute_result"
    }
   ],
   "source": [
    "## Get a list of all the unique participants in df, including the number of occurrences of each participant\n",
    "participants = df['participant_id'].value_counts()\n",
    "participants"
   ]
  },
  {
   "cell_type": "code",
   "execution_count": 10,
   "metadata": {},
   "outputs": [
    {
     "data": {
      "text/plain": [
       "mean_of_transport\n",
       "WALKING            3769\n",
       "TRAIN              1435\n",
       "ON_BICYCLE         1218\n",
       "CAR                 771\n",
       "ELECTRIC_BIKE       561\n",
       "BUS                 375\n",
       "ELECTRIC_BUS        308\n",
       "ELECTRIC_CAR        249\n",
       "TRAM                156\n",
       "DETECTION_ERROR      38\n",
       "HYBRID_CAR           15\n",
       "SCOOTER              10\n",
       "PLANE                 9\n",
       "COACH                 6\n",
       "BOAT_NO_ENGINE        2\n",
       "BOAT                  1\n",
       "Name: count, dtype: int64"
      ]
     },
     "execution_count": 10,
     "metadata": {},
     "output_type": "execute_result"
    }
   ],
   "source": [
    "## Get the list of movements with each mean of transport\n",
    "df['mean_of_transport'].value_counts()"
   ]
  },
  {
   "cell_type": "code",
   "execution_count": 11,
   "metadata": {},
   "outputs": [
    {
     "data": {
      "text/plain": [
       "mean_of_transport\n",
       "BOAT                   5.128\n",
       "BOAT_NO_ENGINE         4.756\n",
       "BUS                 1171.697\n",
       "CAR                15173.333\n",
       "COACH                 91.881\n",
       "DETECTION_ERROR      224.712\n",
       "ELECTRIC_BIKE       1315.560\n",
       "ELECTRIC_BUS         524.388\n",
       "ELECTRIC_CAR        6293.608\n",
       "HYBRID_CAR           319.598\n",
       "ON_BICYCLE          2671.997\n",
       "PLANE              48719.992\n",
       "SCOOTER               12.119\n",
       "TRAIN              47405.241\n",
       "TRAM                 360.004\n",
       "WALKING             3555.331\n",
       "Name: distance(m), dtype: float64"
      ]
     },
     "execution_count": 11,
     "metadata": {},
     "output_type": "execute_result"
    }
   ],
   "source": [
    "# Get the distance covered with each mean of transport (in km)\n",
    "df.groupby('mean_of_transport')['distance(m)'].sum()/1000"
   ]
  },
  {
   "cell_type": "code",
   "execution_count": 12,
   "metadata": {},
   "outputs": [],
   "source": [
    "# Transform the start_ and end_date to a date only\n",
    "df['start_time'] = pd.to_datetime(df['start_time']).dt.date\n",
    "df['end_time'] = pd.to_datetime(df['end_time']).dt.date"
   ]
  },
  {
   "cell_type": "code",
   "execution_count": 13,
   "metadata": {},
   "outputs": [
    {
     "data": {
      "text/plain": [
       "participant_id  mean_of_transport  start_time\n",
       "0H2T3S          BUS                2025-01-28     8.568\n",
       "                TRAIN              2025-01-28    49.134\n",
       "                WALKING            2025-01-28     2.052\n",
       "0W1M6R          CAR                2024-10-18    20.533\n",
       "                                   2024-10-20    73.184\n",
       "                                                  ...  \n",
       "9W2ZXI          CAR                2025-01-31    64.552\n",
       "                                   2025-02-03    31.377\n",
       "                                   2025-02-04    21.895\n",
       "                TRAIN              2025-02-04    95.710\n",
       "                WALKING            2025-02-04     0.354\n",
       "Name: distance(m), Length: 3709, dtype: float64"
      ]
     },
     "execution_count": 13,
     "metadata": {},
     "output_type": "execute_result"
    }
   ],
   "source": [
    "df.groupby(['participant_id', 'mean_of_transport', 'start_time'])['distance(m)'].sum()/1000"
   ]
  },
  {
   "cell_type": "code",
   "execution_count": 14,
   "metadata": {},
   "outputs": [
    {
     "data": {
      "text/html": [
       "<div>\n",
       "<style scoped>\n",
       "    .dataframe tbody tr th:only-of-type {\n",
       "        vertical-align: middle;\n",
       "    }\n",
       "\n",
       "    .dataframe tbody tr th {\n",
       "        vertical-align: top;\n",
       "    }\n",
       "\n",
       "    .dataframe thead th {\n",
       "        text-align: right;\n",
       "    }\n",
       "</style>\n",
       "<table border=\"1\" class=\"dataframe\">\n",
       "  <thead>\n",
       "    <tr style=\"text-align: right;\">\n",
       "      <th></th>\n",
       "      <th>mean</th>\n",
       "      <th>std</th>\n",
       "    </tr>\n",
       "    <tr>\n",
       "      <th>mean_of_transport</th>\n",
       "      <th></th>\n",
       "      <th></th>\n",
       "    </tr>\n",
       "  </thead>\n",
       "  <tbody>\n",
       "    <tr>\n",
       "      <th>BOAT</th>\n",
       "      <td>5.128000e+03</td>\n",
       "      <td>NaN</td>\n",
       "    </tr>\n",
       "    <tr>\n",
       "      <th>BOAT_NO_ENGINE</th>\n",
       "      <td>2.378000e+03</td>\n",
       "      <td>7.368053e+02</td>\n",
       "    </tr>\n",
       "    <tr>\n",
       "      <th>BUS</th>\n",
       "      <td>4.404876e+03</td>\n",
       "      <td>6.187637e+03</td>\n",
       "    </tr>\n",
       "    <tr>\n",
       "      <th>CAR</th>\n",
       "      <td>3.774461e+04</td>\n",
       "      <td>7.247399e+04</td>\n",
       "    </tr>\n",
       "    <tr>\n",
       "      <th>COACH</th>\n",
       "      <td>4.594050e+04</td>\n",
       "      <td>6.263198e+04</td>\n",
       "    </tr>\n",
       "    <tr>\n",
       "      <th>DETECTION_ERROR</th>\n",
       "      <td>1.123560e+04</td>\n",
       "      <td>1.616527e+04</td>\n",
       "    </tr>\n",
       "    <tr>\n",
       "      <th>ELECTRIC_BIKE</th>\n",
       "      <td>6.176338e+03</td>\n",
       "      <td>6.147481e+03</td>\n",
       "    </tr>\n",
       "    <tr>\n",
       "      <th>ELECTRIC_BUS</th>\n",
       "      <td>2.774540e+03</td>\n",
       "      <td>2.770453e+03</td>\n",
       "    </tr>\n",
       "    <tr>\n",
       "      <th>ELECTRIC_CAR</th>\n",
       "      <td>5.619293e+04</td>\n",
       "      <td>1.000644e+05</td>\n",
       "    </tr>\n",
       "    <tr>\n",
       "      <th>HYBRID_CAR</th>\n",
       "      <td>3.551089e+04</td>\n",
       "      <td>5.374248e+04</td>\n",
       "    </tr>\n",
       "    <tr>\n",
       "      <th>ON_BICYCLE</th>\n",
       "      <td>5.486647e+03</td>\n",
       "      <td>7.793212e+03</td>\n",
       "    </tr>\n",
       "    <tr>\n",
       "      <th>PLANE</th>\n",
       "      <td>6.959999e+06</td>\n",
       "      <td>2.246503e+06</td>\n",
       "    </tr>\n",
       "    <tr>\n",
       "      <th>SCOOTER</th>\n",
       "      <td>2.423800e+03</td>\n",
       "      <td>1.980125e+03</td>\n",
       "    </tr>\n",
       "    <tr>\n",
       "      <th>TRAIN</th>\n",
       "      <td>8.360713e+04</td>\n",
       "      <td>8.321909e+04</td>\n",
       "    </tr>\n",
       "    <tr>\n",
       "      <th>TRAM</th>\n",
       "      <td>3.396264e+03</td>\n",
       "      <td>3.899672e+03</td>\n",
       "    </tr>\n",
       "    <tr>\n",
       "      <th>WALKING</th>\n",
       "      <td>2.691394e+03</td>\n",
       "      <td>3.508761e+03</td>\n",
       "    </tr>\n",
       "  </tbody>\n",
       "</table>\n",
       "</div>"
      ],
      "text/plain": [
       "                           mean           std\n",
       "mean_of_transport                            \n",
       "BOAT               5.128000e+03           NaN\n",
       "BOAT_NO_ENGINE     2.378000e+03  7.368053e+02\n",
       "BUS                4.404876e+03  6.187637e+03\n",
       "CAR                3.774461e+04  7.247399e+04\n",
       "COACH              4.594050e+04  6.263198e+04\n",
       "DETECTION_ERROR    1.123560e+04  1.616527e+04\n",
       "ELECTRIC_BIKE      6.176338e+03  6.147481e+03\n",
       "ELECTRIC_BUS       2.774540e+03  2.770453e+03\n",
       "ELECTRIC_CAR       5.619293e+04  1.000644e+05\n",
       "HYBRID_CAR         3.551089e+04  5.374248e+04\n",
       "ON_BICYCLE         5.486647e+03  7.793212e+03\n",
       "PLANE              6.959999e+06  2.246503e+06\n",
       "SCOOTER            2.423800e+03  1.980125e+03\n",
       "TRAIN              8.360713e+04  8.321909e+04\n",
       "TRAM               3.396264e+03  3.899672e+03\n",
       "WALKING            2.691394e+03  3.508761e+03"
      ]
     },
     "execution_count": 14,
     "metadata": {},
     "output_type": "execute_result"
    }
   ],
   "source": [
    "# Get the distance covered by each mean of transport per day, per user. On the days where the user used the mean of transport.\n",
    "dist_per_day = df.groupby(['participant_id', 'mean_of_transport', 'start_time'])['distance(m)'].sum()\n",
    "\n",
    "\n",
    "# Get the average per mean of transport across all users. Which means the average of the average_dist\n",
    "mean_daily = dist_per_day.groupby('mean_of_transport').mean()\n",
    "std_daily = dist_per_day.groupby('mean_of_transport').std()\n",
    "\n",
    "# Merge and print\n",
    "daily = pd.concat([mean_daily, std_daily], axis=1)\n",
    "daily.columns = ['mean', 'std']\n",
    "daily\n"
   ]
  },
  {
   "cell_type": "code",
   "execution_count": 15,
   "metadata": {},
   "outputs": [],
   "source": [
    "dist_per_day = dist_per_day.reset_index()"
   ]
  },
  {
   "cell_type": "code",
   "execution_count": 16,
   "metadata": {},
   "outputs": [],
   "source": [
    "# Plot as a violin plot\n",
    "import seaborn as sns\n",
    "import matplotlib.pyplot as plt"
   ]
  },
  {
   "cell_type": "code",
   "execution_count": 17,
   "metadata": {},
   "outputs": [
    {
     "name": "stderr",
     "output_type": "stream",
     "text": [
      "/var/folders/0v/mryc8sr57kb1272k8bhj0z083fl3sj/T/ipykernel_46157/1236318022.py:3: FutureWarning: \n",
      "\n",
      "Passing `palette` without assigning `hue` is deprecated and will be removed in v0.14.0. Assign the `x` variable to `hue` and set `legend=False` for the same effect.\n",
      "\n",
      "  sns.violinplot(x='mean_of_transport', y='distance(m)', data=dist_per_day, inner='box', linewidth=1.5, saturation=0.8, width=0.8, cut=0, palette='viridis')\n"
     ]
    },
    {
     "data": {
      "text/plain": [
       "<Axes: xlabel='mean_of_transport', ylabel='distance(m)'>"
      ]
     },
     "execution_count": 17,
     "metadata": {},
     "output_type": "execute_result"
    },
    {
     "data": {
      "image/png": "[encoded data removed]",
      "text/plain": [
       "<Figure size 1500x400 with 1 Axes>"
      ]
     },
     "metadata": {},
     "output_type": "display_data"
    }
   ],
   "source": [
    "# Plot as violin plot\n",
    "plt.figure(figsize=(15, 4))\n",
    "sns.violinplot(x='mean_of_transport', y='distance(m)', data=dist_per_day, inner='box', linewidth=1.5, saturation=0.8, width=0.8, cut=0, palette='viridis')"
   ]
  },
  {
   "cell_type": "code",
   "execution_count": 18,
   "metadata": {},
   "outputs": [
    {
     "name": "stderr",
     "output_type": "stream",
     "text": [
      "/var/folders/0v/mryc8sr57kb1272k8bhj0z083fl3sj/T/ipykernel_46157/1446108219.py:6: FutureWarning: \n",
      "\n",
      "Passing `palette` without assigning `hue` is deprecated and will be removed in v0.14.0. Assign the `x` variable to `hue` and set `legend=False` for the same effect.\n",
      "\n",
      "  sns.violinplot(x='mean_of_transport', y='distance(m)', data=long, inner='box', linewidth=1.5, saturation=0.8, width=0.8, cut=0, palette='viridis') # Long distance\n",
      "/var/folders/0v/mryc8sr57kb1272k8bhj0z083fl3sj/T/ipykernel_46157/1446108219.py:9: FutureWarning: \n",
      "\n",
      "Passing `palette` without assigning `hue` is deprecated and will be removed in v0.14.0. Assign the `x` variable to `hue` and set `legend=False` for the same effect.\n",
      "\n",
      "  sns.violinplot(x='mean_of_transport', y='distance(m)', data=short, inner='box', linewidth=1.5, saturation=0.8, width=0.8, cut=0, palette='viridis') # Short distance\n"
     ]
    },
    {
     "data": {
      "text/plain": [
       "<Axes: xlabel='mean_of_transport', ylabel='distance(m)'>"
      ]
     },
     "execution_count": 18,
     "metadata": {},
     "output_type": "execute_result"
    },
    {
     "data": {
      "image/png": "[encoded data removed]",
      "text/plain": [
       "<Figure size 1500x400 with 1 Axes>"
      ]
     },
     "metadata": {},
     "output_type": "display_data"
    },
    {
     "data": {
      "image/png": "[encoded data removed]",
      "text/plain": [
       "<Figure size 1500x400 with 1 Axes>"
      ]
     },
     "metadata": {},
     "output_type": "display_data"
    }
   ],
   "source": [
    "# Separate car, train, boat from the rest and plot\n",
    "long = dist_per_day[dist_per_day['mean_of_transport'].isin(['CAR', 'TRAIN', 'BOAT'])]\n",
    "short = dist_per_day[~dist_per_day['mean_of_transport'].isin(['CAR', 'TRAIN', 'BOAT', 'PLANE'])]\n",
    "\n",
    "plt.figure(figsize=(15, 4))\n",
    "sns.violinplot(x='mean_of_transport', y='distance(m)', data=long, inner='box', linewidth=1.5, saturation=0.8, width=0.8, cut=0, palette='viridis') # Long distance\n",
    "\n",
    "plt.figure(figsize=(15, 4))\n",
    "sns.violinplot(x='mean_of_transport', y='distance(m)', data=short, inner='box', linewidth=1.5, saturation=0.8, width=0.8, cut=0, palette='viridis') # Short distance"
   ]
  },
  {
   "cell_type": "markdown",
   "metadata": {},
   "source": [
    "## Create a visualization of the covered routes"
   ]
  },
  {
   "cell_type": "code",
   "execution_count": 19,
   "metadata": {},
   "outputs": [],
   "source": [
    "## Get a coordinate from a geohash, adding a small random offset to avoid overlapping\n",
    "def geohash_to_coordinate(geohash):\n",
    "    try:\n",
    "        lat, lon = geolib.decode(geohash)\n",
    "        #lat = float(lat) + 0.00000001#(random.random() - 0.5) * 0.00000001\n",
    "        #lon = float(lon) + 0.00000001#(random.random() - 0.5) * 0.00000001\n",
    "        return [float(lat), float(lon)]\n",
    "    except:\n",
    "        return [float(0.0), float(0.0)]"
   ]
  },
  {
   "cell_type": "code",
   "execution_count": 20,
   "metadata": {},
   "outputs": [],
   "source": [
    "## Draw a path from start_geohash to end_geohash on a folium map\n",
    "def draw_path(start_geohash, end_geohash, mean_of_transport, map, weight=1, tooltip=None):\n",
    "    ## Give a different color to each mean of transport\n",
    "    colors = {\n",
    "        'WALKING': '#7FC97F',\n",
    "        'ON_BICYCLE': '#BDAED4',\n",
    "        'ELECTRIC_BIKE': '#BDAED4',\n",
    "        'SCOOTER': '#BDAED4',\n",
    "        'TRAIN': '#FDBF85',\n",
    "        'BUS': '#FFFF99',\n",
    "        'ELECTRIC_BUS': '#FFFF99',\n",
    "        'CAR': '#386CB0',\n",
    "        'ELECTRIC_CAR': '#386CB0',\n",
    "        'HYBRID_CAR': '#386CB0',\n",
    "        'TRAM': '#F0027F',\n",
    "        'PLANE': '#BE5B17',\n",
    "        'BOAT': '#BE5B17',\n",
    "        'BOAT_NO_ENGINE': '#BE5B17',\n",
    "        'DETECTION_ERROR': '#000000',\n",
    "        'COACH': '#FFFF99',\n",
    "    }\n",
    "\n",
    "    try:\n",
    "        start_coord = geohash_to_coordinate(start_geohash)\n",
    "        end_coord = geohash_to_coordinate(end_geohash)\n",
    "\n",
    "        # Add a small offset to avoid overlapping\n",
    "        start_coord[0] += (random.random() - 0.5) * 0.001\n",
    "        start_coord[1] += (random.random() - 0.5) * 0.001\n",
    "        end_coord[0] += (random.random() - 0.5) * 0.001\n",
    "        end_coord[1] += (random.random() - 0.5) * 0.001\n",
    "\n",
    "        #arc_drawer.draw_arc(map, start_coord[0], start_coord[1], end_coord[0], end_coord[1], color=colors[mean_of_transport], weight = weight)\n",
    "\n",
    "        folium.PolyLine(locations=[start_coord, end_coord], color=colors[mean_of_transport], weight=weight, tooltip=tooltip).add_to(map)\n",
    "    except Exception as e:\n",
    "        print(e)\n",
    "        print(start_geohash, end_geohash)\n"
   ]
  },
  {
   "cell_type": "code",
   "execution_count": 59,
   "metadata": {},
   "outputs": [],
   "source": [
    "## Create the actual folium map\n",
    "m = folium.Map(location=[46.9446011, 7.4143311], zoom_start=6, tiles='https://tiles.stadiamaps.com/tiles/stamen_toner_lite/{z}/{x}/{y}{r}.png?api_key=977802c5-9b2e-4fc3-9254-a9199d0d5d0c', attr='https://stadiamaps.com/')\n",
    "\n",
    "# Count the number of movements with the same combination of start_geohash and end_geohash (or vice-versa)\n",
    "df['start_end_geohash'] = df['start_geohash'] + df['end_geohash']\n",
    "df['end_start_geohash'] = df['end_geohash'] + df['start_geohash']\n",
    "\n",
    "## Get the number of movements with the same combination of start_geohash and end_geohash (or vice-versa)\n",
    "start_end = df['start_end_geohash'].value_counts()\n",
    "end_start = df['end_start_geohash'].value_counts()\n",
    "\n",
    "## Create a list with the sum of the two previous lists, when the index is the same\n",
    "combined = {}\n",
    "\n",
    "for index, row in start_end.items():\n",
    "    if index in end_start:\n",
    "        combined[index] = row + end_start[index]\n",
    "    else:\n",
    "        combined[index] = row\n",
    "\n",
    "for index, row in end_start.items():\n",
    "    if index not in combined:\n",
    "        combined[index] = row\n",
    "\n",
    "## Convert combined to series\n",
    "combined = pd.Series(combined)\n",
    "\n",
    "# Log scaling\n",
    "combined = combined.apply(lambda x: math.log(x) + 1)\n",
    "\n",
    "# Draw path for each movement in start_end\n",
    "for index, row in combined.items():\n",
    "    start_geohash = index[0:len(index)//2]\n",
    "    end_geohash = index[len(index)//2:len(index)] \n",
    "\n",
    "    try:\n",
    "        mean_of_transport = df.loc[(df['start_geohash'] == start_geohash) & (df['end_geohash'] == end_geohash), 'mean_of_transport'].iloc[0]\n",
    "    except:\n",
    "        mean_of_transport = df.loc[(df['end_geohash'] == start_geohash) & (df['start_geohash'] == end_geohash), 'mean_of_transport'].iloc[0]\n",
    "\n",
    "    draw_path(start_geohash, end_geohash, mean_of_transport, m, weight = row/max(combined)*7)\n",
    "\n",
    "## Draw a path for each movement\n",
    "#for index, row in df.iterrows():\n",
    "#    draw_path(row['start_geohash'], row['end_geohash'], row['mean_of_transport'], m)\n",
    "\n",
    "## Add the legend to the map\n",
    "m.get_root().html.add_child(folium.Element(legend_html))\n",
    "\n",
    "## Save the map as an html file\n",
    "m.save('maps/paths_map.html')\n"
   ]
  },
  {
   "cell_type": "markdown",
   "metadata": {},
   "source": [
    "## Create a heatmap of the locations visited"
   ]
  },
  {
   "cell_type": "code",
   "execution_count": 22,
   "metadata": {},
   "outputs": [
    {
     "data": {
      "text/plain": [
       "1498"
      ]
     },
     "execution_count": 22,
     "metadata": {},
     "output_type": "execute_result"
    }
   ],
   "source": [
    "## Extract from df a list of all start_geohashes and end_geohashes\n",
    "geohashes = list(df['start_geohash']) + list(df['end_geohash'])\n",
    "len(geohashes)"
   ]
  },
  {
   "cell_type": "code",
   "execution_count": 23,
   "metadata": {},
   "outputs": [],
   "source": [
    "# If we want, we can remove some characters from the end of each geohash to reduce the precision\n",
    "geohashes = [geohash[:-1] for geohash in geohashes]"
   ]
  },
  {
   "cell_type": "code",
   "execution_count": 24,
   "metadata": {},
   "outputs": [],
   "source": [
    "# Convert the list of geohashes to a dataframe\n",
    "geohashes_df = gpd.GeoDataFrame(geohashes, columns=['geohash'])"
   ]
  },
  {
   "cell_type": "markdown",
   "metadata": {},
   "source": [
    "## Convert the list of geohashes to a geoJSON object\n"
   ]
  },
  {
   "cell_type": "code",
   "execution_count": 25,
   "metadata": {},
   "outputs": [],
   "source": [
    "## Convert geohashes to a heatmap in geojson format\n",
    "def geohashes_to_heatmap(df):\n",
    "    # Get the distinct geohashes and their counts from the dataframe\n",
    "    geohashes = df['geohash'].value_counts()\n",
    "\n",
    "    # Get the maximum count of any geohash\n",
    "    max_count = math.log(geohashes.max())\n",
    "\n",
    "    # Convert the geohashes to a list of lists, each containing the geohash and its count\n",
    "    geohashes = [[geohash, count] for geohash, count in zip(geohashes.index, geohashes)]\n",
    "    \n",
    "    # Create a color scale for the heatmap\n",
    "    color_scale = linear.RdYlBu_10.scale(1, max_count)\n",
    "\n",
    "    # Convert geohashes to features for geoJSON\n",
    "    features = []\n",
    "\n",
    "    for geohash in geohashes:\n",
    "        # Get the bounds of the geohash\n",
    "        bounds = geolib.bounds(geohash[0])\n",
    "        color = color_scale(math.log(geohash[1]))\n",
    "\n",
    "        # Create a feature for the geohash\n",
    "        features.append({\n",
    "            \"type\": \"Feature\",\n",
    "            \"properties\": {\n",
    "                \"id\": geohash[0],\n",
    "                \"fillColor\": color,\n",
    "                \"fillOpacity\": 0.6,\n",
    "                \"stroke\": False\n",
    "            },\n",
    "            \"geometry\": {\n",
    "                \"type\": \"Polygon\",\n",
    "                \"coordinates\": [[\n",
    "                    [bounds.sw.lon, bounds.sw.lat],\n",
    "                    [bounds.sw.lon, bounds.ne.lat],\n",
    "                    [bounds.ne.lon, bounds.ne.lat],\n",
    "                    [bounds.ne.lon, bounds.sw.lat],\n",
    "                    [bounds.sw.lon, bounds.sw.lat]\n",
    "                ]]\n",
    "            },\n",
    "        })\n",
    "\n",
    "    # Convert the geohashes to a heatmap in geojson format\n",
    "    return {\n",
    "        \"type\" : \"FeatureCollection\",\n",
    "        \"features\": features\n",
    "    }"
   ]
  },
  {
   "cell_type": "code",
   "execution_count": 26,
   "metadata": {},
   "outputs": [],
   "source": [
    "# Convert the geohashes to a heatmap in geojson format\n",
    "heatmap = geohashes_to_heatmap(geohashes_df)\n",
    "\n",
    "# Save GeoJSON with double quotes\n",
    "with open('results/heatmap.geojson', 'w') as f:\n",
    "    json.dump(heatmap, f)"
   ]
  },
  {
   "cell_type": "code",
   "execution_count": 27,
   "metadata": {},
   "outputs": [],
   "source": [
    "# Visualize as a heatmap using Folium\n",
    "# Create a folium map centered at an initial location\n",
    "def create_map(geojson, mapname, legend=None):\n",
    "    m = folium.Map(location=[46.9446011, 7.4143311],zoom_start=6, tiles='https://tiles.stadiamaps.com/tiles/stamen_toner_lite/{z}/{x}/{y}{r}.png?api_key=977802c5-9b2e-4fc3-9254-a9199d0d5d0c', attr='https://stadiamaps.com/')\n",
    "\n",
    "    # Define a style function to set the color of the polygon\n",
    "    def style_function(feature):\n",
    "        return {\n",
    "            'fillColor': feature[\"properties\"][\"fillColor\"],  # Change this to the desired color\n",
    "            'stroke': feature[\"properties\"][\"stroke\"],\n",
    "            'fillOpacity': feature[\"properties\"][\"fillOpacity\"],\n",
    "        }\n",
    "\n",
    "    # Add GeoJSON data to the map with the style function\n",
    "    folium.GeoJson(\n",
    "        geojson,\n",
    "        name='Polygon Layer',\n",
    "        style_function=style_function,\n",
    "    ).add_to(m)\n",
    "\n",
    "    # Add Layer Control to the map\n",
    "    folium.LayerControl().add_to(m)\n",
    "\n",
    "    if legend:\n",
    "        m.get_root().html.add_child(folium.Element(legend))\n",
    "\n",
    "    # Save or display the map\n",
    "    m.save(\"maps/\"+mapname)\n"
   ]
  },
  {
   "cell_type": "code",
   "execution_count": 28,
   "metadata": {},
   "outputs": [],
   "source": [
    "create_map(heatmap, \"heatmap.html\")"
   ]
  },
  {
   "cell_type": "code",
   "execution_count": 29,
   "metadata": {},
   "outputs": [],
   "source": [
    "!open -a Arc maps/heatmap.html"
   ]
  },
  {
   "cell_type": "markdown",
   "metadata": {},
   "source": [
    "## Get the map of the most used vehicles"
   ]
  },
  {
   "cell_type": "code",
   "execution_count": null,
   "metadata": {},
   "outputs": [],
   "source": [
    "## Get the list of geohashes with the corresponding mean of transport\n",
    "geohashes = df[['start_geohash', 'mean_of_transport']].copy()\n",
    "## Append the end_geohashes to the list of geohashes\n",
    "geohashes = gpd.GeoDataFrame(pd.concat([geohashes, df[['end_geohash', 'mean_of_transport']]]))\n",
    "## Merge start_geohashes and end_geohashes into a single column\n",
    "geohashes['geohash'] = geohashes['start_geohash'].combine_first(geohashes['end_geohash'])\n",
    "## Remove the start_geohashes and end_geohashes columns\n",
    "geohashes = geohashes[['geohash', 'mean_of_transport']]\n",
    "\n",
    "## Reduce precision of geohashes\n",
    "geohashes['geohash'] = geohashes['geohash'] #.str[:-1]\n",
    "\n",
    "geohashes"
   ]
  },
  {
   "cell_type": "code",
   "execution_count": null,
   "metadata": {},
   "outputs": [],
   "source": [
    "## Find the mean of transport that occurs the more often for each geohash and keep only the first one (the most used)\n",
    "geohashes_df = gpd.GeoDataFrame(geohashes, columns=['geohash', 'mean_of_transport'])\n",
    "# Get the count of the mean of transport for each geohash\n",
    "geohashes_df = geohashes_df.groupby(['geohash', 'mean_of_transport']).size().reset_index(name='counts')\n",
    "# For each geohash, keep only the mean of transport that occurs the most often\n",
    "geohashes_df = geohashes_df.sort_values('counts', ascending=False).drop_duplicates(['geohash'])\n",
    "# Remove the counts column\n",
    "#geohashes_df = geohashes_df[['geohash', 'mean_of_transport']]\n",
    "geohashes_df"
   ]
  },
  {
   "cell_type": "code",
   "execution_count": 60,
   "metadata": {},
   "outputs": [],
   "source": [
    "## Convert geohashes to a heatmap in geojson format\n",
    "def heatmap_mot(df):\n",
    "    ## Give a different color to each mean of transport\n",
    "    colors = {\n",
    "        'WALKING': '#7FC97F',\n",
    "        'ON_BICYCLE': '#BDAED4',\n",
    "        'ELECTRIC_BIKE': '#BDAED4',\n",
    "        'SCOOTER': '#BDAED4',\n",
    "        'TRAIN': '#FDBF85',\n",
    "        'BUS': '#FFFF99',\n",
    "        'ELECTRIC_BUS': '#FFFF99',\n",
    "        'CAR': '#386CB0',\n",
    "        'ELECTRIC_CAR': '#386CB0',\n",
    "        'HYBRID_CAR': '#386CB0',\n",
    "        'TRAM': '#F0027F',\n",
    "        'PLANE': '#BE5B17',\n",
    "        'BOAT': '#BE5B17'\n",
    "    }\n",
    "\n",
    "    # Convert geohashes to features for geoJSON\n",
    "    features = []\n",
    "\n",
    "    for geohash in df:\n",
    "        # Get the bounds of the geohash\n",
    "        bounds = geolib.bounds(geohash[0])\n",
    "        color = colors[geohash[1]]\n",
    "\n",
    "        # Create a feature for the geohash\n",
    "        features.append({\n",
    "            \"type\": \"Feature\",\n",
    "            \"properties\": {\n",
    "                \"id\": geohash[0],\n",
    "                \"fillColor\": color,\n",
    "                \"fillOpacity\": 0.8,\n",
    "                \"stroke\": False\n",
    "            },\n",
    "            \"geometry\": {\n",
    "                \"type\": \"Polygon\",\n",
    "                \"coordinates\": [[\n",
    "                    [bounds.sw.lon, bounds.sw.lat],\n",
    "                    [bounds.sw.lon, bounds.ne.lat],\n",
    "                    [bounds.ne.lon, bounds.ne.lat],\n",
    "                    [bounds.ne.lon, bounds.sw.lat],\n",
    "                    [bounds.sw.lon, bounds.sw.lat]\n",
    "                ]]\n",
    "            },\n",
    "        })\n",
    "\n",
    "    # Convert the geohashes to a heatmap in geojson format\n",
    "    return {\n",
    "        \"type\" : \"FeatureCollection\",\n",
    "        \"features\": features\n",
    "    }"
   ]
  },
  {
   "cell_type": "code",
   "execution_count": null,
   "metadata": {},
   "outputs": [],
   "source": [
    "# Convert the means of transport to a heatmap in geojson format\n",
    "heatmap = heatmap_mot(geohashes_df.values)\n",
    "\n",
    "# Save GeoJSON with double quotes\n",
    "with open('results/heatmap_mot.geojson', 'w') as f:\n",
    "    json.dump(heatmap, f)"
   ]
  },
  {
   "cell_type": "code",
   "execution_count": 97,
   "metadata": {},
   "outputs": [],
   "source": [
    "create_map(heatmap, \"heatmap_mot.html\", legend_html)"
   ]
  },
  {
   "cell_type": "code",
   "execution_count": 98,
   "metadata": {},
   "outputs": [],
   "source": [
    "!open -a Arc maps/heatmap_mot.html"
   ]
  },
  {
   "cell_type": "markdown",
   "metadata": {},
   "source": [
    "## Get the map of the movements (start to end point)"
   ]
  },
  {
   "cell_type": "code",
   "execution_count": 27,
   "metadata": {},
   "outputs": [],
   "source": [
    "# Now we should create a map with lines between the geohashes, with the color of the line corresponding to the mean of transport\n",
    "# We should also create a legend for the map\n",
    "\n",
    "## Create the actual folium map\n",
    "m = folium.Map(location=[46.9446011, 7.4143311], zoom_start=8, tiles='https://tiles.stadiamaps.com/tiles/stamen_toner_lite/{z}/{x}/{y}{r}.png?api_key=977802c5-9b2e-4fc3-9254-a9199d0d5d0c', attr='https://stadiamaps.com/')\n",
    "# Draw a path for each movement\n",
    "for index, row in df.iterrows():\n",
    "    draw_path(row['start_geohash'], row['end_geohash'], row['mean_of_transport'], m, weight = 2, tooltip=row['participant_id'])\n",
    "\n",
    "\n",
    "## Add the legend to the map\n",
    "m.get_root().html.add_child(folium.Element(legend_html))\n",
    "\n",
    "## Save the map as an html file\n",
    "m.save('maps/paths_map_mot.html')\n",
    "\n",
    "!open -a Arc maps/paths_map_mot.html"
   ]
  },
  {
   "cell_type": "code",
   "execution_count": 60,
   "metadata": {},
   "outputs": [
    {
     "name": "stderr",
     "output_type": "stream",
     "text": [
      "/Users/colombmo/Documents/Lavoro/SWICE/Software/tests/OSMnx/osmnx/lib/python3.9/site-packages/dateutil/parser/_parser.py:1207: UnknownTimezoneWarning: tzname T identified but not understood.  Pass `tzinfos` argument in order to correctly return a timezone-aware datetime.  In a future version, this will raise an exception.\n",
      "  warnings.warn(\"tzname {tzname} identified but not understood.  \"\n"
     ]
    },
    {
     "data": {
      "image/png": "[encoded data removed]",
      "text/plain": [
       "<Figure size 1500x400 with 1 Axes>"
      ]
     },
     "metadata": {},
     "output_type": "display_data"
    }
   ],
   "source": [
    "# Compute the total CO2 emissions for each person\n",
    "df_co2 = df.groupby('participant_id')['gCO2'].sum()\n",
    "\n",
    "# Plot the total CO2 emissions for each person in a bar plot, together with the average CO2 emissions per km in different bars\n",
    "plt.figure(figsize=(15, 4))\n",
    "plt.bar(df_co2.index, df_co2, label='Total CO2 emissions')\n",
    "plt.legend()\n",
    "plt.show()"
   ]
  },
  {
   "cell_type": "code",
   "execution_count": 61,
   "metadata": {},
   "outputs": [
    {
     "name": "stderr",
     "output_type": "stream",
     "text": [
      "/Users/colombmo/Documents/Lavoro/SWICE/Software/tests/OSMnx/osmnx/lib/python3.9/site-packages/dateutil/parser/_parser.py:1207: UnknownTimezoneWarning: tzname T identified but not understood.  Pass `tzinfos` argument in order to correctly return a timezone-aware datetime.  In a future version, this will raise an exception.\n",
      "  warnings.warn(\"tzname {tzname} identified but not understood.  \"\n"
     ]
    },
    {
     "data": {
      "image/png": "[encoded data removed]",
      "text/plain": [
       "<Figure size 1500x400 with 1 Axes>"
      ]
     },
     "metadata": {},
     "output_type": "display_data"
    }
   ],
   "source": [
    "# Compute the emissions per km for each person\n",
    "df['gCO2_per_km'] = df['gCO2'] / df['distance(m)'] * 1000\n",
    "df['gCO2_per_km'] = df['gCO2_per_km'].replace([np.inf, -np.inf], np.nan)\n",
    "\n",
    "# Plot the emissions per km for each person in a bar plot\n",
    "df_co2_per_km = df.groupby('participant_id')['gCO2_per_km'].mean()\n",
    "plt.figure(figsize=(15, 4))\n",
    "plt.bar(df_co2_per_km.index, df_co2_per_km, label='CO2 emissions per km')\n",
    "plt.legend()\n",
    "plt.show()\n"
   ]
  },
  {
   "cell_type": "code",
   "execution_count": 62,
   "metadata": {},
   "outputs": [
    {
     "name": "stderr",
     "output_type": "stream",
     "text": [
      "/Users/colombmo/Documents/Lavoro/SWICE/Software/tests/OSMnx/osmnx/lib/python3.9/site-packages/dateutil/parser/_parser.py:1207: UnknownTimezoneWarning: tzname T identified but not understood.  Pass `tzinfos` argument in order to correctly return a timezone-aware datetime.  In a future version, this will raise an exception.\n",
      "  warnings.warn(\"tzname {tzname} identified but not understood.  \"\n",
      "/Users/colombmo/Documents/Lavoro/SWICE/Software/tests/OSMnx/osmnx/lib/python3.9/site-packages/dateutil/parser/_parser.py:1207: UnknownTimezoneWarning: tzname T identified but not understood.  Pass `tzinfos` argument in order to correctly return a timezone-aware datetime.  In a future version, this will raise an exception.\n",
      "  warnings.warn(\"tzname {tzname} identified but not understood.  \"\n"
     ]
    },
    {
     "data": {
      "image/png": "[encoded data removed]",
      "text/plain": [
       "<Figure size 1500x1000 with 1 Axes>"
      ]
     },
     "metadata": {},
     "output_type": "display_data"
    }
   ],
   "source": [
    "# Compute the emissions per day (using start time) for each person\n",
    "df['start_time'] = pd.to_datetime(df['start_time'])\n",
    "df['day'] = df['start_time'].dt.date\n",
    "df_co2_per_day = df.groupby(['participant_id', 'day'])['gCO2'].sum()\n",
    "\n",
    "# Plot emissions per day for each person in a violin plot\n",
    "plt.figure(figsize=(15, 10))\n",
    "sns.violinplot(x='participant_id', y='gCO2', data=df_co2_per_day.reset_index(), inner='box', linewidth=1.5, saturation=0.8, width=0.8, cut=0, palette='Set2', hue='participant_id')\n",
    "plt.show()"
   ]
  },
  {
   "cell_type": "code",
   "execution_count": 21,
   "metadata": {},
   "outputs": [],
   "source": [
    "# Reduce precision of geohash by 1 character for the rows where we covered a long distance (more than 10 km)\n",
    "df['start_geohash'] = df.apply(lambda x: x['start_geohash'][:-1] if x['distance(m)'] > 10000 else x['start_geohash'], axis=1)\n",
    "df['end_geohash'] = df.apply(lambda x: x['end_geohash'][:-1] if x['distance(m)'] > 10000 else x['end_geohash'], axis=1)"
   ]
  },
  {
   "cell_type": "code",
   "execution_count": 22,
   "metadata": {},
   "outputs": [],
   "source": [
    "# Define colors for each mode of transport\n",
    "alpha = 128\n",
    "colors = {\n",
    "    'WALKING': [70, 130, 180, alpha],      # Steel Blue (distinct blue for walking)\n",
    "    'ON_BICYCLE': [100, 149, 237, alpha],  # Cornflower Blue (different blue for bike)\n",
    "    'ELECTRIC_BIKE': [100, 149, 237, alpha],\n",
    "    'SCOOTER': [100, 149, 237, alpha],\n",
    "    'TRAIN': [0, 191, 255, alpha],         # Deep Sky Blue (different blue for train)\n",
    "    'BUS': [255, 182, 193, alpha],         # Light Pink (distinct from car/tram/plane)\n",
    "    'ELECTRIC_BUS': [255, 182, 193, alpha],\n",
    "    'COACH': [255, 182, 193, alpha],\n",
    "    'CAR': [255, 105, 180, alpha],        # Hot Pink (distinct for car)\n",
    "    'ELECTRIC_CAR': [255, 105, 180, alpha],\n",
    "    'HYBRID_CAR': [255, 105, 180, alpha],\n",
    "    'TRAM': [255, 160, 122, alpha],       # Light Salmon Pink (distinct from bus and car)\n",
    "    'PLANE': [255, 105, 180, alpha],      # Hot Pink (same as car, but could be changed if needed)\n",
    "    'BOAT': [255, 105, 180, alpha],       # Hot Pink\n",
    "    'BOAT_NO_ENGINE': [255, 105, 180, alpha],\n",
    "    'DETECTION_ERROR': [0, 0, 0, alpha],  # Black\n",
    "}"
   ]
  },
  {
   "cell_type": "code",
   "execution_count": 23,
   "metadata": {},
   "outputs": [
    {
     "data": {
      "text/plain": [
       "98153"
      ]
     },
     "execution_count": 23,
     "metadata": {},
     "output_type": "execute_result"
    }
   ],
   "source": [
    "df.size"
   ]
  },
  {
   "cell_type": "code",
   "execution_count": 24,
   "metadata": {},
   "outputs": [],
   "source": [
    "# IF two movements from the same user have the same start geohash and start time, we should merge them into a single movement (keep the one with the highest distance)\n",
    "df['start_time'] = pd.to_datetime(df['start_time'])\n",
    "\n",
    "# Group by participant_id, start_geohash, start_time and maximum distance, keep all the other data from the row with the maxium distance\n",
    "df = df.groupby(['participant_id', 'start_geohash', 'start_time'])['distance(m)'].max().reset_index().merge(df, on=['participant_id', 'start_geohash', 'start_time', 'distance(m)'])"
   ]
  },
  {
   "cell_type": "code",
   "execution_count": 25,
   "metadata": {},
   "outputs": [
    {
     "data": {
      "text/plain": [
       "72622"
      ]
     },
     "execution_count": 25,
     "metadata": {},
     "output_type": "execute_result"
    }
   ],
   "source": [
    "df.size"
   ]
  },
  {
   "cell_type": "code",
   "execution_count": 30,
   "metadata": {},
   "outputs": [],
   "source": [
    "# Merge consecutive movements with the same mode of transport\n",
    "def merge_consecutive_movements(df, time_min):\n",
    "    # Group movements by participant and mode of transport, and sort by start time\n",
    "    df = df.sort_values(['participant_id', 'mean_of_transport', 'start_time'])\n",
    "\n",
    "    # Calculate time difference between end time of one movement and start time of the next\n",
    "    df['prev_end_time'] = df.groupby(['participant_id', 'mean_of_transport'])['end_time'].shift()\n",
    "    df['time_diff'] = (df['start_time'] - pd.to_datetime(df['prev_end_time'])).dt.total_seconds() / 60\n",
    "\n",
    "    # Create a new column to store the group number\n",
    "    df['group'] = (df['time_diff'] > time_min).cumsum()\n",
    "\n",
    "    # Group by participant, mode of transport and group number, and calculate the start and end time of the group\n",
    "    df = df.groupby(['participant_id', 'mean_of_transport', 'group']).agg(\n",
    "        start_time=('start_time', 'first'),\n",
    "        end_time=('end_time', 'last'),\n",
    "        start_geohash=('start_geohash', 'first'),\n",
    "        end_geohash=('end_geohash', 'last'),\n",
    "        distance=('distance(m)', 'sum'),\n",
    "        gCO2=('gCO2', 'sum')\n",
    "    ).reset_index()"
   ]
  },
  {
   "cell_type": "code",
   "execution_count": 31,
   "metadata": {},
   "outputs": [],
   "source": [
    "merge_consecutive_movements(df, 60)"
   ]
  },
  {
   "cell_type": "code",
   "execution_count": 32,
   "metadata": {},
   "outputs": [
    {
     "data": {
      "text/plain": [
       "\"\\ndf_copy = df.copy()\\ndf = df[df['distance(m)'] < 10000]\\n\""
      ]
     },
     "execution_count": 32,
     "metadata": {},
     "output_type": "execute_result"
    }
   ],
   "source": [
    "# Get only the rows with distance smaller than 10km\n",
    "'''\n",
    "df_copy = df.copy()\n",
    "df = df[df['distance(m)'] < 10000]\n",
    "'''"
   ]
  },
  {
   "cell_type": "code",
   "execution_count": null,
   "metadata": {},
   "outputs": [],
   "source": [
    "# Get only the rows with distance bigger than 10km\n",
    "\n",
    "df = df_copy.copy()\n",
    "df_copy = df.copy()\n",
    "df = df[df['distance(m)'] > 10000]\n"
   ]
  },
  {
   "cell_type": "code",
   "execution_count": 34,
   "metadata": {},
   "outputs": [],
   "source": [
    "# Process all paths in one step\n",
    "df['start_coords'] = df['start_geohash'].apply(geohash_to_coordinate)\n",
    "df['end_coords'] = df['end_geohash'].apply(geohash_to_coordinate)\n",
    "\n",
    "# Add slight offsets to avoid overlaps\n",
    "df['start_coords'] = df['start_coords'].apply(lambda x: [x[1] + (random.random() - 0.5) * 0.001, x[0] + (random.random() - 0.5) * 0.001])\n",
    "df['end_coords'] = df['end_coords'].apply(lambda x: [x[1] + (random.random() - 0.5) * 0.001, x[0] + (random.random() - 0.5) * 0.001])\n",
    "\n",
    "'''\n",
    "# Add random height to the start and end coordinates\n",
    "df['start_coords'] = df['start_coords'].apply(lambda x: [x[0], x[1], random.randint(10000, 20000)])\n",
    "df['end_coords'] = df['end_coords'].apply(lambda x: [x[0], x[1], random.randint(10000, 20000)])\n",
    "'''\n",
    "\n",
    "# Create data list for Pydeck\n",
    "path_data = df[['start_coords', 'end_coords', 'mean_of_transport', 'participant_id']].copy()\n",
    "path_data['color'] = path_data['mean_of_transport'].apply(lambda x: colors.get(x, [0, 0, 0])) # Default black for unknown transport\n",
    "path_data['color_start'] = path_data['color'].apply(lambda x: [xi * 0.7 for xi in x])  # Slightly darker starting color\n",
    "\n",
    "# Pydeck ArcLayer (Curved Lines)\n",
    "layer = pdk.Layer(\n",
    "    \"ArcLayer\",\n",
    "    data=path_data,\n",
    "    get_source_position=\"start_coords\",\n",
    "    get_target_position=\"end_coords\",\n",
    "    get_source_color=\"color_start\",\n",
    "    get_target_color=\"color\",\n",
    "    get_color=\"color\", # for linelayer\n",
    "    get_width=1,\n",
    "    get_height = 1, # Change the height of the arc, negative values make it go down\n",
    "    pickable=True,\n",
    "    auto_highlight=True,\n",
    ")\n",
    "\n",
    "# Define map view\n",
    "view_state = pdk.ViewState(\n",
    "    latitude=df['start_coords'].iloc[0][1],  # Center on first start point\n",
    "    longitude=df['start_coords'].iloc[0][0],\n",
    "    zoom=8,\n",
    "    pitch=80,  # Adds some 3D depth for better arc visibility\n",
    ")\n",
    "\n",
    "# Render and save\n",
    "deck = pdk.Deck(layers=[layer], initial_view_state=view_state, tooltip={\"text\": \"{participant_id} - {mean_of_transport}\"})\n",
    "deck.to_html(\"maps/paths_map_mot.html\")\n",
    "\n",
    "# Open in browser\n",
    "!open -a Arc maps/paths_map_mot.html"
   ]
  },
  {
   "cell_type": "code",
   "execution_count": 71,
   "metadata": {},
   "outputs": [],
   "source": [
    "# Group trips that were from the same start and end geohash and vehicle, to reduce clutter\n",
    "grouped = df.groupby(['start_geohash', 'end_geohash', 'mean_of_transport']).size().reset_index(name='counts')\n",
    "\n",
    "# Get coordinates from geohashes\n",
    "grouped['start_coords'] = grouped['start_geohash'].apply(geohash_to_coordinate)\n",
    "grouped['end_coords'] = grouped['end_geohash'].apply(geohash_to_coordinate)\n",
    "\n",
    "# Add slight offsets to avoid overlaps\n",
    "grouped['start_coords'] = grouped['start_coords'].apply(lambda x: [x[1] + (random.random() - 0.5) * 0.001, x[0] + (random.random() - 0.5) * 0.001])\n",
    "grouped['end_coords'] = grouped['end_coords'].apply(lambda x: [x[1] + (random.random() - 0.5) * 0.001, x[0] + (random.random() - 0.5) * 0.001])\n",
    "\n",
    "# Create data list for Pydeck\n",
    "path_data = grouped[['start_coords', 'end_coords', 'mean_of_transport', 'counts']].copy()\n",
    "path_data['color'] = path_data['mean_of_transport'].apply(lambda x: colors.get(x, [0, 0, 0])) # Default black for unknown transport\n",
    "path_data['color_start'] = path_data['color'].apply(lambda x: [xi * 0.7 for xi in x])  # Slightly darker starting color\n",
    "\n",
    "# Get maxium count for scaling - then scale with a log scale, with minimum 1 width and maximum 5\n",
    "max_count = path_data['counts'].max()\n",
    "path_data['width'] = path_data['counts'].apply(lambda x: max(1, min(5, math.log(x + 1) / math.log(max_count + 1) * 5)))\n",
    "\n",
    "# Pydeck ArcLayer (Curved Lines)\n",
    "layer = pdk.Layer(\n",
    "    \"ArcLayer\",\n",
    "    data=path_data,\n",
    "    get_source_position=\"start_coords\",\n",
    "    get_target_position=\"end_coords\",\n",
    "    get_source_color=\"color_start\",\n",
    "    get_target_color=\"color\",\n",
    "    get_width=\"width\",  # Scale width based on counts\n",
    "    pickable=True,\n",
    "    auto_highlight=True,\n",
    ")\n",
    "\n",
    "# Define map view\n",
    "view_state = pdk.ViewState(\n",
    "    latitude=df['start_coords'].iloc[0][1],  # Center on first start point\n",
    "    longitude=df['start_coords'].iloc[0][0],\n",
    "    zoom=8,\n",
    "    pitch=30,  # Adds some 3D depth for better arc visibility\n",
    ")\n",
    "\n",
    "# Render and  save\n",
    "deck = pdk.Deck(layers=[layer], initial_view_state=view_state, tooltip={\"text\": \"{mean_of_transport} - {counts}\"})\n",
    "deck.to_html(\"maps/paths_map_mot_grouped.html\")\n",
    "\n",
    "# Open in browser\n",
    "!open -a Arc maps/paths_map_mot_grouped.html"
   ]
  },
  {
   "cell_type": "code",
   "execution_count": 72,
   "metadata": {},
   "outputs": [
    {
     "name": "stdout",
     "output_type": "stream",
     "text": [
      "Train distances:\n",
      "Average: 35832.89820359281\n",
      "Median: 26769.0\n",
      "count      1169.000000\n",
      "mean      35832.898204\n",
      "std       39685.264692\n",
      "min         264.000000\n",
      "25%        7643.000000\n",
      "50%       26769.000000\n",
      "75%       48681.000000\n",
      "max      311709.000000\n",
      "Name: distance(m), dtype: float64\n",
      "0        49134\n",
      "4        19710\n",
      "8        20679\n",
      "28       16209\n",
      "97      109620\n",
      "         ...  \n",
      "6335     23989\n",
      "6337     57321\n",
      "6354     20223\n",
      "6433     66371\n",
      "6437     29339\n",
      "Name: distance(m), Length: 1169, dtype: int64\n"
     ]
    }
   ],
   "source": [
    "# Print distances by train, average, median and standard deviation\n",
    "train = df[df['mean_of_transport'] == 'TRAIN']['distance(m)']\n",
    "\n",
    "print('Train distances:')\n",
    "print('Average:', train.mean())\n",
    "print('Median:', train.median())\n",
    "\n",
    "print(train.describe())\n",
    "\n",
    "print(train)"
   ]
  },
  {
   "cell_type": "code",
   "execution_count": null,
   "metadata": {},
   "outputs": [],
   "source": []
  }
 ],
 "metadata": {
  "kernelspec": {
   "display_name": "osmnx",
   "language": "python",
   "name": "python3"
  },
  "language_info": {
   "codemirror_mode": {
    "name": "ipython",
    "version": 3
   },
   "file_extension": ".py",
   "mimetype": "text/x-python",
   "name": "python",
   "nbconvert_exporter": "python",
   "pygments_lexer": "ipython3",
   "version": "3.9.6"
  }
 },
 "nbformat": 4,
 "nbformat_minor": 2
}
