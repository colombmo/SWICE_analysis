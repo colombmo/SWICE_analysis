{
 "cells": [
  {
   "cell_type": "code",
   "execution_count": 1,
   "metadata": {},
   "outputs": [],
   "source": [
    "# Convert Switzerland.geojson to switzerland.json in format \n",
    "# [\n",
    "#   {p: [{x: 1, y: 2}, {x: 2, y: 3}, {x: 3, y: 4}, {x: 1, y: 2}]}, # This is a ring, a sequence of points\n",
    "#   {p: [{x: 4, y: 5}, {x: 6, y: 7}, {x: 8, y: 9}, {x: 4, y: 5}]}\n",
    "# ]"
   ]
  },
  {
   "cell_type": "code",
   "execution_count": 2,
   "metadata": {},
   "outputs": [],
   "source": [
    "import json"
   ]
  },
  {
   "cell_type": "code",
   "execution_count": 4,
   "metadata": {},
   "outputs": [],
   "source": [
    "with open('./data/switzerland.geojson') as f:\n",
    "    data = json.load(f)"
   ]
  },
  {
   "cell_type": "code",
   "execution_count": 7,
   "metadata": {},
   "outputs": [],
   "source": [
    "newdata = []\n",
    "\n",
    "for f in data['features']:\n",
    "    for ring in f['geometry']['coordinates']:\n",
    "        temp = {'p': []}\n",
    "        for point in ring:\n",
    "            temp['p'].append({'x':point[0], 'y':point[1]})\n",
    "\n",
    "        newdata.append(temp)"
   ]
  },
  {
   "cell_type": "code",
   "execution_count": 12,
   "metadata": {},
   "outputs": [],
   "source": [
    "with open('./results/switzerland.json', 'w') as f:\n",
    "    f.write(json.dumps(newdata,separators=(',', ':')))"
   ]
  },
  {
   "cell_type": "code",
   "execution_count": null,
   "metadata": {},
   "outputs": [],
   "source": []
  }
 ],
 "metadata": {
  "kernelspec": {
   "display_name": "osmnx",
   "language": "python",
   "name": "python3"
  },
  "language_info": {
   "codemirror_mode": {
    "name": "ipython",
    "version": 3
   },
   "file_extension": ".py",
   "mimetype": "text/x-python",
   "name": "python",
   "nbconvert_exporter": "python",
   "pygments_lexer": "ipython3",
   "version": "3.9.6"
  }
 },
 "nbformat": 4,
 "nbformat_minor": 2
}
