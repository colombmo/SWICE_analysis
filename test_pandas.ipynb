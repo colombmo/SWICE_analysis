{
 "cells": [
  {
   "cell_type": "code",
   "execution_count": 1,
   "metadata": {},
   "outputs": [],
   "source": [
    "import pandas as pd"
   ]
  },
  {
   "cell_type": "code",
   "execution_count": 2,
   "metadata": {},
   "outputs": [],
   "source": [
    "'''\n",
    "Create the following dataframe:\n",
    "    person  day  ate\n",
    "0     John  Mon  \"meat\"\n",
    "1     John  Tue  \"vegetarian\"\n",
    "2     John  Wed  \"meat\"\n",
    "3     John  Thu  \"vegan\"\n",
    "4     John  Fri  \"vegan\"\n",
    "5     Paul  Mon  \"vegan\"\n",
    "6     Paul  Tue  \"meat\"\n",
    "7     Paul  Wed  \"meat\"\n",
    "8     Paul  Thu  \"meat\"\n",
    "9     Paul  Fri  \"vegetarian\"\n",
    "'''\n",
    "\n",
    "df = pd.DataFrame({\n",
    "    'person': ['John', 'John', 'John', 'John', 'John', 'Paul', 'Paul', 'Paul', 'Paul', 'Paul'],\n",
    "    'day': ['Mon', 'Tue', 'Wed', 'Thu', 'Fri', 'Mon', 'Tue', 'Wed', 'Thu', 'Fri'],\n",
    "    'ate': ['meat', 'vegetarian', 'meat', 'vegan', 'vegan', 'vegan', 'meat', 'meat', 'meat', 'vegetarian']\n",
    "})"
   ]
  },
  {
   "cell_type": "code",
   "execution_count": 14,
   "metadata": {},
   "outputs": [
    {
     "data": {
      "text/plain": [
       "5"
      ]
     },
     "execution_count": 14,
     "metadata": {},
     "output_type": "execute_result"
    }
   ],
   "source": [
    "len(df[df[\"ate\"] == \"meat\"])"
   ]
  },
  {
   "cell_type": "code",
   "execution_count": 18,
   "metadata": {},
   "outputs": [],
   "source": [
    "import re"
   ]
  },
  {
   "cell_type": "code",
   "execution_count": 55,
   "metadata": {},
   "outputs": [],
   "source": [
    "\n",
    "def translate(query):\n",
    "    # Translate if conditions\n",
    "    query = translateIf(query)\n",
    "\n",
    "    print(query)\n",
    "    # Translate count\n",
    "    query = translateCount(query)\n",
    "\n",
    "    return query\n",
    "\n",
    "# IF(condition, value_if_true, value_if_false) REGEX matched -> value_if_true if condition else value_if_false\n",
    "def translateIf(query):\n",
    "    return re.sub(r\"IF\\((.*), (.*), (.*)\\)\", r\"\\2 if \\1 else \\3\", query)\n",
    "    \n",
    "# Count: 2 options:\n",
    "# COUNT(table) REGEX matched -> len(table), \n",
    "# or with filter : COUNT(table[col] == value) -> len(table[table[col] == value])\n",
    "def translateCount(query):\n",
    "    filtered = re.sub(r\"COUNT\\((.*)\\[(.*)\\](==|<|<=|>|>=)(.*)\\)\", r\"len(\\1[\\1[\\2] \\3 \\4])\" , query)\n",
    "    return re.sub(r\"COUNT\\((.*)\\)\", r\"len(\\1)\", filtered)"
   ]
  },
  {
   "cell_type": "code",
   "execution_count": 58,
   "metadata": {},
   "outputs": [
    {
     "name": "stdout",
     "output_type": "stream",
     "text": [
      "\"BAD BOI\" if COUNT(df[\"ate\"]==\"meat\") > 5 else \"GOOD BOI\"\n"
     ]
    },
    {
     "data": {
      "text/plain": [
       "'GOOD BOI'"
      ]
     },
     "execution_count": 58,
     "metadata": {},
     "output_type": "execute_result"
    }
   ],
   "source": [
    "translated = translate('IF(COUNT(df[\"ate\"]==\"meat\") > 5, \"BAD BOI\", \"GOOD BOI\")')\n",
    "eval(translated)"
   ]
  },
  {
   "cell_type": "code",
   "execution_count": 59,
   "metadata": {},
   "outputs": [],
   "source": [
    "q = 'COUNT(IF(df[\"ate\"] == \"meat\", \"hi\", \"bye\"))'"
   ]
  },
  {
   "cell_type": "code",
   "execution_count": null,
   "metadata": {},
   "outputs": [],
   "source": []
  }
 ],
 "metadata": {
  "kernelspec": {
   "display_name": "osmnx",
   "language": "python",
   "name": "python3"
  },
  "language_info": {
   "codemirror_mode": {
    "name": "ipython",
    "version": 3
   },
   "file_extension": ".py",
   "mimetype": "text/x-python",
   "name": "python",
   "nbconvert_exporter": "python",
   "pygments_lexer": "ipython3",
   "version": "3.9.6"
  },
  "orig_nbformat": 4
 },
 "nbformat": 4,
 "nbformat_minor": 2
}
