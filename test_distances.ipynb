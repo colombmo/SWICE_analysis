{
 "cells": [
  {
   "cell_type": "code",
   "execution_count": 23,
   "metadata": {},
   "outputs": [],
   "source": [
    "import osmnx as ox"
   ]
  },
  {
   "cell_type": "code",
   "execution_count": 24,
   "metadata": {},
   "outputs": [],
   "source": [
    "# Define the point's latitude and longitude\n",
    "lat = 46.94456\n",
    "lon = 7.41435\n"
   ]
  },
  {
   "cell_type": "code",
   "execution_count": 148,
   "metadata": {},
   "outputs": [],
   "source": [
    "# Check if rail is closer than dist to the point (lat, lon)\n",
    "def isRailCloserThan(lat, lon, dist):\n",
    "    # Get the graph and nearest edge using OSMnx\n",
    "    try:\n",
    "        # Here, we consider only main and branch lines (not \"parkings\" etc.), that we cannot do in the features_from_point version\n",
    "        G = ox.graph_from_point((lat, lon), custom_filter = '[\"railway\"~\"rail\"][\"usage\"~\"main|branch\"]', dist=dist, simplify=False, retain_all=True)\n",
    "        #ox.plot_graph(G)\n",
    "        #nearest_edge = ox.distance.nearest_edges(G, lon, lat, return_dist=True)\n",
    "        # Multiply the distance in degrees by 111,139 to get the distance in meters (https://sciencing.com/convert-latitude-longtitude-feet-2724.html)\n",
    "        return True\n",
    "    except:\n",
    "        return False"
   ]
  },
  {
   "cell_type": "code",
   "execution_count": 149,
   "metadata": {},
   "outputs": [
    {
     "data": {
      "text/plain": [
       "True"
      ]
     },
     "execution_count": 149,
     "metadata": {},
     "output_type": "execute_result"
    }
   ],
   "source": [
    "isRailCloserThan(lat, lon, 1000)"
   ]
  },
  {
   "cell_type": "code",
   "execution_count": 150,
   "metadata": {},
   "outputs": [],
   "source": [
    "# Check if rails exist closer than dist to the point (lat, lon), QUICK VERSION!\n",
    "def is_rail_closer_than(lat, lon, dist):\n",
    "    try:\n",
    "        res = ox.features_from_point((lat, lon), dist=dist, tags = {\"railway\":\"rail\", })\n",
    "        return len(res) > 0\n",
    "    except:\n",
    "        return False"
   ]
  },
  {
   "cell_type": "code",
   "execution_count": 151,
   "metadata": {},
   "outputs": [
    {
     "name": "stdout",
     "output_type": "stream",
     "text": [
      "39.7 ms ± 1.13 ms per loop (mean ± std. dev. of 7 runs, 10 loops each)\n"
     ]
    }
   ],
   "source": [
    "%%timeit\n",
    "isRailCloserThan(lat, lon, 8)"
   ]
  },
  {
   "cell_type": "code",
   "execution_count": 152,
   "metadata": {},
   "outputs": [
    {
     "name": "stdout",
     "output_type": "stream",
     "text": [
      "6.33 ms ± 654 µs per loop (mean ± std. dev. of 7 runs, 100 loops each)\n"
     ]
    }
   ],
   "source": [
    "%%timeit\n",
    "# Check if there are rails closer than 8 meters to the point where the user is ( this can be used to know if a person is in a train or not)\n",
    "is_rail_closer_than(lat, lon, 8)"
   ]
  },
  {
   "cell_type": "code",
   "execution_count": 4,
   "metadata": {},
   "outputs": [],
   "source": [
    "import overpy\n",
    "import csv"
   ]
  },
  {
   "cell_type": "code",
   "execution_count": 5,
   "metadata": {},
   "outputs": [],
   "source": [
    "api = overpy.Overpass()"
   ]
  },
  {
   "cell_type": "code",
   "execution_count": 32,
   "metadata": {},
   "outputs": [],
   "source": [
    "full_query = \"\"\"\n",
    "// [out:csv(::type, \"railway\", \"route\", \"natural\")] // => CSV output not supported by python overpass wrapper\n",
    "[out:json]\n",
    "[timeout:25];\n",
    "// gather results\n",
    "(\n",
    "\t// Close to a train track?\n",
    "  \tway[\"railway\"=\"rail\"][\"usage\"=\"main\"](around: 100, 46.996296, 6.933764);\n",
    "  \tway[\"railway\"=\"rail\"][\"usage\"=\"branch\"](around: 100, 46.996296, 6.933764);\n",
    "  \n",
    "  \t// Close to tram rails?\n",
    "  \tway[\"railway\"=\"tram\"](around: 100, 46.996296, 6.933764);\n",
    "  \t\n",
    "  \t// Close to bus line?\n",
    "  \trel[\"route\"=\"bus\"](around: 100, 46.996296, 6.933764);\n",
    "  \trel[\"route\"=\"trolleybus\"](around: 100, 46.996296, 6.933764);\n",
    "  \n",
    "\t// Are we on a lake? (Double set negation because area.a[\"natural\" != \"water\"] does not work... => (area.a; - area.a[\"natural\"];) )\n",
    "\t(is_in(46.996709, 7.0)->.a; - (area.a; - area.a[\"natural\"];););\n",
    ");\n",
    "// Export results\n",
    "out body;\n",
    "\"\"\""
   ]
  },
  {
   "cell_type": "code",
   "execution_count": 33,
   "metadata": {},
   "outputs": [],
   "source": [
    "result = api.query(full_query)"
   ]
  },
  {
   "cell_type": "code",
   "execution_count": 34,
   "metadata": {},
   "outputs": [
    {
     "name": "stdout",
     "output_type": "stream",
     "text": [
      "Area:  {'ele': '429', 'intermittent': 'no', 'name': 'Lac de Neuchâtel', 'name:ca': 'Lac de Neuchâtel', 'name:cs': 'Neuchâtelské jezero', 'name:da': 'Neuchâtelsøen', 'name:de': 'Neuenburgersee', 'name:en': 'Lake Neuchâtel', 'name:fr': 'Lac de Neuchâtel', 'name:hr': 'Neušatelsko jezero', 'name:lt': 'Nešatelio ežeras', 'name:ru': 'Невшательское озеро', 'name:sk': 'Neuchâtelské jazero', 'name:sl': 'Neuchâtelsko jezero', 'natural': 'water', 'salt': 'no', 'tidal': 'no', 'type': 'multipolygon', 'water': 'lake', 'wikidata': 'Q14375', 'wikipedia': 'fr:Lac de Neuchâtel'}\n"
     ]
    }
   ],
   "source": [
    "for area in result.areas:\n",
    "    print(\"Area: \", area.tags)"
   ]
  },
  {
   "cell_type": "code",
   "execution_count": 35,
   "metadata": {},
   "outputs": [
    {
     "name": "stdout",
     "output_type": "stream",
     "text": [
      "Way:  {'electrified': 'contact_line', 'frequency': '16.7', 'gauge': '1435', 'maxspeed': '95', 'operator': 'SBB', 'passenger_lines': '5', 'railway': 'rail', 'railway:etcs': '1', 'tracks': '1', 'usage': 'main', 'voltage': '15000'}\n",
      "Way:  {'electrified': 'contact_line', 'frequency': '16.7', 'gauge': '1435', 'maxspeed': '95', 'operator': 'SBB', 'passenger_lines': '5', 'railway': 'rail', 'railway:etcs': '1', 'railway:track_ref': '3', 'tracks': '1', 'usage': 'main', 'voltage': '15000'}\n",
      "Way:  {'electrified': 'contact_line', 'frequency': '16.7', 'gauge': '1435', 'maxspeed': '95', 'operator': 'SBB', 'passenger_lines': '5', 'railway': 'rail', 'railway:etcs': '1', 'railway:track_ref': '4', 'tracks': '1', 'usage': 'main', 'voltage': '15000'}\n",
      "Way:  {'electrified': 'contact_line', 'frequency': '16.7', 'gauge': '1435', 'maxspeed': '95', 'operator': 'SBB', 'passenger_lines': '5', 'railway': 'rail', 'railway:etcs': '1', 'tracks': '1', 'usage': 'main', 'voltage': '15000'}\n"
     ]
    }
   ],
   "source": [
    "for way in result.ways:\n",
    "    print(\"Way: \", way.tags)"
   ]
  },
  {
   "cell_type": "code",
   "execution_count": null,
   "metadata": {},
   "outputs": [],
   "source": []
  }
 ],
 "metadata": {
  "kernelspec": {
   "display_name": "osmnx",
   "language": "python",
   "name": "python3"
  },
  "language_info": {
   "codemirror_mode": {
    "name": "ipython",
    "version": 3
   },
   "file_extension": ".py",
   "mimetype": "text/x-python",
   "name": "python",
   "nbconvert_exporter": "python",
   "pygments_lexer": "ipython3",
   "version": "3.9.6"
  },
  "orig_nbformat": 4
 },
 "nbformat": 4,
 "nbformat_minor": 2
}
