{
 "cells": [
  {
   "cell_type": "markdown",
   "metadata": {},
   "source": [
    "## Visualize path points"
   ]
  },
  {
   "cell_type": "code",
   "execution_count": 1,
   "metadata": {},
   "outputs": [
    {
     "name": "stderr",
     "output_type": "stream",
     "text": [
      "/Users/colombmo/Documents/Lavoro/SWICE/Software/tests/OSMnx/osmnx/lib/python3.9/site-packages/urllib3/__init__.py:34: NotOpenSSLWarning: urllib3 v2.0 only supports OpenSSL 1.1.1+, currently the 'ssl' module is compiled with 'LibreSSL 2.8.3'. See: https://github.com/urllib3/urllib3/issues/3020\n",
      "  warnings.warn(\n"
     ]
    }
   ],
   "source": [
    "import geopandas as gpd\n",
    "import folium\n",
    "from folium.plugins import HeatMap\n",
    "from geolib import geohash as geolib"
   ]
  },
  {
   "cell_type": "code",
   "execution_count": 2,
   "metadata": {},
   "outputs": [],
   "source": [
    "# Defined legend\n",
    "legend_html = '''\n",
    "     <div style=\"position: fixed; \n",
    "                 bottom: 50px; left: 50px; width: 160px; height: 300px; \n",
    "                 background-color: white; border:2px solid grey; z-index:9999; \n",
    "                 font-size:14px;\">\n",
    "     &nbsp; <b>Legend</b> <br>\n",
    "     &nbsp; Walking &nbsp; <i class=\"fa fa-square\" style=\"color:#7FC97F\"></i><br>\n",
    "     &nbsp; On Bicycle &nbsp; <i class=\"fa fa-square\" style=\"color:#BDAED4\"></i><br>\n",
    "     &nbsp; Train &nbsp; <i class=\"fa fa-square\" style=\"color:#FDBF85\"></i><br>\n",
    "     &nbsp; Bus &nbsp; <i class=\"fa fa-square\" style=\"color:#FFFF99\"></i><br>\n",
    "     &nbsp; Electric Bus &nbsp; <i class=\"fa fa-square\" style=\"color:#FFFF99\"></i><br>\n",
    "     &nbsp; Car &nbsp; <i class=\"fa fa-square\" style=\"color:#386CB0\"></i><br>\n",
    "     &nbsp; Tram &nbsp; <i class=\"fa fa-square\" style=\"color:#F0027F\"></i><br>\n",
    "     &nbsp; Plane &nbsp; <i class=\"fa fa-square\" style=\"color:#BE5B17\"></i><br>\n",
    "     &nbsp; Boat &nbsp; <i class=\"fa fa-square\" style=\"color:#BE5B17\"></i><br>\n",
    "      </div>\n",
    "     '''"
   ]
  },
  {
   "cell_type": "code",
   "execution_count": 3,
   "metadata": {},
   "outputs": [],
   "source": [
    "df = gpd.read_file('data/pathpoints.csv')"
   ]
  },
  {
   "cell_type": "code",
   "execution_count": 4,
   "metadata": {},
   "outputs": [
    {
     "data": {
      "text/html": [
       "<div>\n",
       "<style scoped>\n",
       "    .dataframe tbody tr th:only-of-type {\n",
       "        vertical-align: middle;\n",
       "    }\n",
       "\n",
       "    .dataframe tbody tr th {\n",
       "        vertical-align: top;\n",
       "    }\n",
       "\n",
       "    .dataframe thead th {\n",
       "        text-align: right;\n",
       "    }\n",
       "</style>\n",
       "<table border=\"1\" class=\"dataframe\">\n",
       "  <thead>\n",
       "    <tr style=\"text-align: right;\">\n",
       "      <th></th>\n",
       "      <th>time_range</th>\n",
       "      <th>day_of_week</th>\n",
       "      <th>month</th>\n",
       "      <th>mode_of_transport</th>\n",
       "      <th>geohash</th>\n",
       "      <th>direction</th>\n",
       "    </tr>\n",
       "  </thead>\n",
       "  <tbody>\n",
       "    <tr>\n",
       "      <th>0</th>\n",
       "      <td>18-21</td>\n",
       "      <td>TUESDAY</td>\n",
       "      <td>8</td>\n",
       "      <td>BUS</td>\n",
       "      <td>u0m70dcm</td>\n",
       "      <td>EAST</td>\n",
       "    </tr>\n",
       "    <tr>\n",
       "      <th>1</th>\n",
       "      <td>18-21</td>\n",
       "      <td>TUESDAY</td>\n",
       "      <td>8</td>\n",
       "      <td>BUS</td>\n",
       "      <td>u0m70ddq</td>\n",
       "      <td>NORTH_WEST</td>\n",
       "    </tr>\n",
       "    <tr>\n",
       "      <th>2</th>\n",
       "      <td>18-21</td>\n",
       "      <td>TUESDAY</td>\n",
       "      <td>8</td>\n",
       "      <td>BUS</td>\n",
       "      <td>u0m70dfh</td>\n",
       "      <td>EAST</td>\n",
       "    </tr>\n",
       "    <tr>\n",
       "      <th>3</th>\n",
       "      <td>6-9</td>\n",
       "      <td>WEDNESDAY</td>\n",
       "      <td>8</td>\n",
       "      <td>ON_BICYCLE</td>\n",
       "      <td>u0m70fqv</td>\n",
       "      <td>NORTH_EAST</td>\n",
       "    </tr>\n",
       "    <tr>\n",
       "      <th>4</th>\n",
       "      <td>6-9</td>\n",
       "      <td>WEDNESDAY</td>\n",
       "      <td>8</td>\n",
       "      <td>ON_BICYCLE</td>\n",
       "      <td>u0m70fqk</td>\n",
       "      <td>EAST</td>\n",
       "    </tr>\n",
       "  </tbody>\n",
       "</table>\n",
       "</div>"
      ],
      "text/plain": [
       "  time_range day_of_week month mode_of_transport   geohash   direction\n",
       "0      18-21     TUESDAY     8               BUS  u0m70dcm        EAST\n",
       "1      18-21     TUESDAY     8               BUS  u0m70ddq  NORTH_WEST\n",
       "2      18-21     TUESDAY     8               BUS  u0m70dfh        EAST\n",
       "3        6-9   WEDNESDAY     8        ON_BICYCLE  u0m70fqv  NORTH_EAST\n",
       "4        6-9   WEDNESDAY     8        ON_BICYCLE  u0m70fqk        EAST"
      ]
     },
     "execution_count": 4,
     "metadata": {},
     "output_type": "execute_result"
    }
   ],
   "source": [
    "# Keep only relevant data\n",
    "df = df[['time_range', 'day_of_week', 'month', 'mode_of_transport', 'geohash', 'direction']]\n",
    "df[:5]"
   ]
  },
  {
   "cell_type": "code",
   "execution_count": 5,
   "metadata": {},
   "outputs": [],
   "source": [
    "## Get a coordinate from a geohash, adding a small random offset to avoid overlapping\n",
    "def geohash_to_coordinate(geohash):\n",
    "    lat, lon = geolib.decode(geohash)\n",
    "    #lat = float(lat) + 0.00000001#(random.random() - 0.5) * 0.00000001\n",
    "    #lon = float(lon) + 0.00000001#(random.random() - 0.5) * 0.00000001\n",
    "    return [float(lat), float(lon)]"
   ]
  },
  {
   "cell_type": "code",
   "execution_count": 6,
   "metadata": {},
   "outputs": [],
   "source": [
    "# Group by geohashes\n",
    "df_grouped = df.groupby('geohash').size().reset_index(name='count')"
   ]
  },
  {
   "cell_type": "code",
   "execution_count": 7,
   "metadata": {},
   "outputs": [],
   "source": [
    "## Extract from df a list of all start_geohashes and end_geohashes\n",
    "geohashes = list(df['geohash'])\n",
    "len(geohashes)\n",
    "# Convert the list of geohashes to a dataframe\n",
    "geohashes_df = gpd.GeoDataFrame(geohashes, columns=['geohash'])\n",
    "# Decode geohashes to latitude and longitude\n",
    "df_grouped['latitude'] = df_grouped['geohash'].apply(lambda x: geohash_to_coordinate(x)[0])\n",
    "df_grouped['longitude'] = df_grouped['geohash'].apply(lambda x: geohash_to_coordinate(x)[1])\n",
    "# Create a base map\n",
    "m = folium.Map(location=[df_grouped['latitude'].mean(), df_grouped['longitude'].mean()], zoom_start=10)\n",
    "\n",
    "# Prepare data for the heatmap\n",
    "heat_data = [[row['latitude'], row['longitude'], row['count']] for index, row in df_grouped.iterrows()]\n",
    "\n",
    "# Create a heatmap layer\n",
    "HeatMap(heat_data).add_to(m)\n",
    "\n",
    "# Display the map\n",
    "m.save('maps/pathpoints_heatmap.html')\n",
    "!open -a Arc maps/pathpoints_heatmap.html"
   ]
  },
  {
   "cell_type": "code",
   "execution_count": null,
   "metadata": {},
   "outputs": [],
   "source": []
  }
 ],
 "metadata": {
  "kernelspec": {
   "display_name": "osmnx",
   "language": "python",
   "name": "python3"
  },
  "language_info": {
   "codemirror_mode": {
    "name": "ipython",
    "version": 3
   },
   "file_extension": ".py",
   "mimetype": "text/x-python",
   "name": "python",
   "nbconvert_exporter": "python",
   "pygments_lexer": "ipython3",
   "version": "3.9.6"
  }
 },
 "nbformat": 4,
 "nbformat_minor": 2
}
